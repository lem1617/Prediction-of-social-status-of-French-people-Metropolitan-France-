{
 "cells": [
  {
   "cell_type": "code",
   "execution_count": 1,
   "id": "fifty-legislation",
   "metadata": {},
   "outputs": [],
   "source": [
    "import pandas as pd\n",
    "import numpy as np\n",
    "import os\n",
    "import seaborn as sns\n",
    "import matplotlib.pyplot as plt\n",
    "%matplotlib inline\n",
    "import matplotlib.style as style\n",
    "style.use('ggplot')\n"
   ]
  },
  {
   "cell_type": "code",
   "execution_count": 2,
   "id": "second-frank",
   "metadata": {},
   "outputs": [],
   "source": [
    "from sklearn.model_selection import train_test_split\n",
    "from sklearn.preprocessing import StandardScaler\n",
    "from sklearn.pipeline import Pipeline\n",
    "from sklearn.pipeline import make_pipeline\n",
    "\n",
    "from sklearn.preprocessing import LabelEncoder\n",
    "from sklearn.decomposition import PCA\n",
    "from sklearn.linear_model import LinearRegression\n",
    "from sklearn.svm import SVR\n",
    "from xgboost import XGBRegressor\n",
    "from sklearn.ensemble import RandomForestRegressor\n",
    "\n",
    "from sklearn.model_selection import cross_val_score, RepeatedKFold\n",
    "from sklearn.model_selection import GridSearchCV, RandomizedSearchCV\n",
    "from sklearn.model_selection import KFold\n",
    "\n",
    "import warnings\n",
    "from sklearn.metrics import mean_squared_error, r2_score"
   ]
  },
  {
   "cell_type": "code",
   "execution_count": 3,
   "id": "annoying-frequency",
   "metadata": {},
   "outputs": [
    {
     "data": {
      "text/plain": [
       "'C:\\\\Users\\\\Admin\\\\Desktop\\\\Machine Learning\\\\Final Project/project-14-files/'"
      ]
     },
     "execution_count": 3,
     "metadata": {},
     "output_type": "execute_result"
    }
   ],
   "source": [
    "str(os.getcwd()) + '/project-14-files/'"
   ]
  },
  {
   "cell_type": "markdown",
   "id": "frank-likelihood",
   "metadata": {},
   "source": [
    "## Data loading"
   ]
  },
  {
   "cell_type": "code",
   "execution_count": 4,
   "id": "referenced-california",
   "metadata": {},
   "outputs": [],
   "source": [
    "folder_path = str(os.getcwd()) + '/project-14-files/'\n",
    "city_adm = pd.read_csv(folder_path + 'city_adm.csv')\n",
    "city_loc = pd.read_csv(folder_path + 'city_loc.csv')\n",
    "city_pop = pd.read_csv(folder_path + 'city_pop.csv')\n",
    "code_Activity_type = pd.read_csv(folder_path + 'code_Activity_type.csv')\n",
    "code_Club = pd.read_csv(folder_path + 'code_Club.csv')\n",
    "code_Company_category = pd.read_csv(folder_path + 'code_Company_category.csv')\n",
    "code_contract_type = pd.read_csv(folder_path + 'code_contract_type.csv')\n",
    "code_ECO_SECT = pd.read_csv(folder_path + 'code_ECO_SECT.csv')\n",
    "code_EMP_CONTRACT = pd.read_csv(folder_path + 'code_EMP_CONTRACT.csv')\n",
    "code_employee_count = pd.read_csv(folder_path + 'code_employee_count.csv')\n",
    "code_highest_diploma = pd.read_csv(folder_path + 'code_highest_diploma.csv')\n",
    "code_household_type = pd.read_csv(folder_path + 'code_household_type.csv')\n",
    "code_JOB_42 = pd.read_csv(folder_path + 'code_JOB_42.csv')\n",
    "code_JOB_CATEGORY = pd.read_csv(folder_path + 'code_JOB_CATEGORY.csv')\n",
    "code_JOB_CONDITION = pd.read_csv(folder_path + 'code_JOB_CONDITION.csv')\n",
    "code_Work_description = pd.read_csv(folder_path + 'code_Work_description.csv')\n",
    "departments = pd.read_csv(folder_path + 'departments.csv')\n",
    "regions = pd.read_csv(folder_path + 'regions.csv')\n",
    "code_Work_description_map = pd.read_csv(folder_path + 'code_Work_description_map.csv')\n",
    "code_Work_description_n1 = pd.read_csv(folder_path + 'code_Work_description_n1.csv')\n",
    "code_Work_description_n2 = pd.read_csv(folder_path + 'code_Work_description_n2.csv')"
   ]
  },
  {
   "cell_type": "code",
   "execution_count": 5,
   "id": "anonymous-roommate",
   "metadata": {},
   "outputs": [],
   "source": [
    "learn_dataset = pd.read_csv(folder_path + 'learn_dataset.csv')\n",
    "learn_EMP_CONTRACT = pd.read_csv(folder_path + 'learn_dataset_EMP_CONTRACT.csv')\n",
    "learn_job = pd.read_csv(folder_path + 'learn_dataset_job.csv')\n",
    "learn_sport = pd.read_csv(folder_path + 'learn_dataset_sport.csv')\n",
    "\n",
    "test_dataset = pd.read_csv(folder_path + 'test_dataset.csv')\n",
    "test_EMP_CONTRACT = pd.read_csv(folder_path + 'test_dataset_EMP_CONTRACT.csv')\n",
    "test_job = pd.read_csv(folder_path + 'test_dataset_job.csv')\n",
    "test_sport = pd.read_csv(folder_path + 'test_dataset_sport.csv')\n"
   ]
  },
  {
   "cell_type": "markdown",
   "id": "handed-currency",
   "metadata": {},
   "source": [
    "## Data preparation"
   ]
  },
  {
   "cell_type": "code",
   "execution_count": 6,
   "id": "funded-amsterdam",
   "metadata": {},
   "outputs": [
    {
     "name": "stdout",
     "output_type": "stream",
     "text": [
      "<class 'pandas.core.frame.DataFrame'>\n",
      "RangeIndex: 50000 entries, 0 to 49999\n",
      "Data columns (total 10 columns):\n",
      " #   Column           Non-Null Count  Dtype  \n",
      "---  ------           --------------  -----  \n",
      " 0   unique_id        50000 non-null  int64  \n",
      " 1   insee            50000 non-null  object \n",
      " 2   is_student       50000 non-null  bool   \n",
      " 3   current_age      50000 non-null  int64  \n",
      " 4   Activity_type    50000 non-null  object \n",
      " 5   sex              50000 non-null  object \n",
      " 6   household_type   50000 non-null  object \n",
      " 7   JOB_42           50000 non-null  object \n",
      " 8   highest_diploma  50000 non-null  object \n",
      " 9   target           50000 non-null  float64\n",
      "dtypes: bool(1), float64(1), int64(2), object(6)\n",
      "memory usage: 3.5+ MB\n"
     ]
    }
   ],
   "source": [
    "learn_dataset.info()"
   ]
  },
  {
   "cell_type": "code",
   "execution_count": 7,
   "id": "oriental-original",
   "metadata": {},
   "outputs": [
    {
     "name": "stdout",
     "output_type": "stream",
     "text": [
      "<class 'pandas.core.frame.DataFrame'>\n",
      "RangeIndex: 24451 entries, 0 to 24450\n",
      "Data columns (total 2 columns):\n",
      " #   Column        Non-Null Count  Dtype \n",
      "---  ------        --------------  ----- \n",
      " 0   unique_id     24451 non-null  int64 \n",
      " 1   EMP_CONTRACT  24451 non-null  object\n",
      "dtypes: int64(1), object(1)\n",
      "memory usage: 382.2+ KB\n"
     ]
    }
   ],
   "source": [
    "learn_EMP_CONTRACT.info()"
   ]
  },
  {
   "cell_type": "code",
   "execution_count": 8,
   "id": "whole-malaysia",
   "metadata": {},
   "outputs": [
    {
     "name": "stdout",
     "output_type": "stream",
     "text": [
      "<class 'pandas.core.frame.DataFrame'>\n",
      "RangeIndex: 19949 entries, 0 to 19948\n",
      "Data columns (total 11 columns):\n",
      " #   Column            Non-Null Count  Dtype  \n",
      "---  ------            --------------  -----  \n",
      " 0   unique_id         19949 non-null  int64  \n",
      " 1   Company_category  19949 non-null  object \n",
      " 2   contract_type     19949 non-null  object \n",
      " 3   ECO_SECT          19949 non-null  object \n",
      " 4   JOB_CONDITION     19949 non-null  object \n",
      " 5   JOB_CATEGORY      19949 non-null  object \n",
      " 6   WORKING_HOURS     19865 non-null  float64\n",
      " 7   Emolument         19949 non-null  int64  \n",
      " 8   employee_count    19949 non-null  object \n",
      " 9   Job_dep           19949 non-null  object \n",
      " 10  Work_description  19949 non-null  object \n",
      "dtypes: float64(1), int64(2), object(8)\n",
      "memory usage: 1.7+ MB\n"
     ]
    }
   ],
   "source": [
    "learn_job.info()"
   ]
  },
  {
   "cell_type": "code",
   "execution_count": 9,
   "id": "athletic-castle",
   "metadata": {},
   "outputs": [
    {
     "name": "stdout",
     "output_type": "stream",
     "text": [
      "<class 'pandas.core.frame.DataFrame'>\n",
      "RangeIndex: 7519 entries, 0 to 7518\n",
      "Data columns (total 2 columns):\n",
      " #   Column     Non-Null Count  Dtype \n",
      "---  ------     --------------  ----- \n",
      " 0   unique_id  7519 non-null   int64 \n",
      " 1   Club       7519 non-null   object\n",
      "dtypes: int64(1), object(1)\n",
      "memory usage: 117.6+ KB\n"
     ]
    }
   ],
   "source": [
    "learn_sport.info()"
   ]
  },
  {
   "cell_type": "markdown",
   "id": "upset-practitioner",
   "metadata": {},
   "source": [
    "As each dataset has a difference size of the variable, we will preprocess each set to avoid the leakage of data before merging to the final learn set."
   ]
  },
  {
   "cell_type": "code",
   "execution_count": 10,
   "id": "prospective-particle",
   "metadata": {},
   "outputs": [
    {
     "name": "stdout",
     "output_type": "stream",
     "text": [
      "<class 'pandas.core.frame.DataFrame'>\n",
      "RangeIndex: 50000 entries, 0 to 49999\n",
      "Data columns (total 9 columns):\n",
      " #   Column           Non-Null Count  Dtype \n",
      "---  ------           --------------  ----- \n",
      " 0   unique_id        50000 non-null  int64 \n",
      " 1   insee            50000 non-null  object\n",
      " 2   is_student       50000 non-null  bool  \n",
      " 3   current_age      50000 non-null  int64 \n",
      " 4   Activity_type    50000 non-null  object\n",
      " 5   sex              50000 non-null  object\n",
      " 6   household_type   50000 non-null  object\n",
      " 7   JOB_42           50000 non-null  object\n",
      " 8   highest_diploma  50000 non-null  object\n",
      "dtypes: bool(1), int64(2), object(6)\n",
      "memory usage: 3.1+ MB\n"
     ]
    }
   ],
   "source": [
    "test_dataset.info()"
   ]
  },
  {
   "cell_type": "markdown",
   "id": "southeast-above",
   "metadata": {},
   "source": [
    "Comment: Each learn & test set has the same size with the highest observation of 50000. "
   ]
  },
  {
   "cell_type": "markdown",
   "id": "fabulous-grounds",
   "metadata": {},
   "source": [
    "### CATEGORICAL FEATURES\n",
    "How we handling categorical features:\n",
    "1. Examine relation between each feature and the target:\n",
    "- Variables with high number of categories: try to simplify by regrouping the categories.\n",
    "- Variables with low number of categories & relatively balanced distribution: use label encoding.\n",
    "- Variables with low number of categories but highly imbalanced distribution: turn to a binary variable.\n",
    "2. Create a function to transform all the categorical features. This function can be applied to both train & test set."
   ]
  },
  {
   "cell_type": "code",
   "execution_count": 11,
   "id": "seven-italic",
   "metadata": {},
   "outputs": [
    {
     "data": {
      "text/plain": [
       "(50000, 22)"
      ]
     },
     "execution_count": 11,
     "metadata": {},
     "output_type": "execute_result"
    }
   ],
   "source": [
    "# First merge to examine the correlation between each feature and the target\n",
    "learn_files = [learn_EMP_CONTRACT,learn_job, learn_sport]\n",
    "learn = learn_dataset\n",
    "\n",
    "for df in learn_files:\n",
    "    learn = learn.merge(df,on='unique_id',how='outer')\n",
    "learn.shape"
   ]
  },
  {
   "cell_type": "markdown",
   "id": "democratic-boston",
   "metadata": {},
   "source": [
    "#### Activity type"
   ]
  },
  {
   "cell_type": "code",
   "execution_count": 12,
   "id": "pursuant-friendship",
   "metadata": {
    "scrolled": true
   },
   "outputs": [
    {
     "data": {
      "text/html": [
       "<div>\n",
       "<style scoped>\n",
       "    .dataframe tbody tr th:only-of-type {\n",
       "        vertical-align: middle;\n",
       "    }\n",
       "\n",
       "    .dataframe tbody tr th {\n",
       "        vertical-align: top;\n",
       "    }\n",
       "\n",
       "    .dataframe thead th {\n",
       "        text-align: right;\n",
       "    }\n",
       "</style>\n",
       "<table border=\"1\" class=\"dataframe\">\n",
       "  <thead>\n",
       "    <tr style=\"text-align: right;\">\n",
       "      <th></th>\n",
       "      <th>Code</th>\n",
       "      <th>Libellé</th>\n",
       "    </tr>\n",
       "  </thead>\n",
       "  <tbody>\n",
       "    <tr>\n",
       "      <th>0</th>\n",
       "      <td>type|1|1</td>\n",
       "      <td>Actifs ayant un emploi, y compris sous apprent...</td>\n",
       "    </tr>\n",
       "    <tr>\n",
       "      <th>1</th>\n",
       "      <td>type|1|2</td>\n",
       "      <td>Chômeurs</td>\n",
       "    </tr>\n",
       "    <tr>\n",
       "      <th>2</th>\n",
       "      <td>type|2|1</td>\n",
       "      <td>Retraités ou préretraités</td>\n",
       "    </tr>\n",
       "    <tr>\n",
       "      <th>3</th>\n",
       "      <td>type|2|2</td>\n",
       "      <td>Elèves, étudiants, stagiaires non rémunéré de ...</td>\n",
       "    </tr>\n",
       "    <tr>\n",
       "      <th>4</th>\n",
       "      <td>type|2|3</td>\n",
       "      <td>Moins de 14 ans</td>\n",
       "    </tr>\n",
       "    <tr>\n",
       "      <th>5</th>\n",
       "      <td>type|2|4</td>\n",
       "      <td>Femmes ou hommes au foyer</td>\n",
       "    </tr>\n",
       "    <tr>\n",
       "      <th>6</th>\n",
       "      <td>type|2|5</td>\n",
       "      <td>Autres inactifs</td>\n",
       "    </tr>\n",
       "  </tbody>\n",
       "</table>\n",
       "</div>"
      ],
      "text/plain": [
       "       Code                                            Libellé\n",
       "0  type|1|1  Actifs ayant un emploi, y compris sous apprent...\n",
       "1  type|1|2                                           Chômeurs\n",
       "2  type|2|1                          Retraités ou préretraités\n",
       "3  type|2|2  Elèves, étudiants, stagiaires non rémunéré de ...\n",
       "4  type|2|3                                    Moins de 14 ans\n",
       "5  type|2|4                          Femmes ou hommes au foyer\n",
       "6  type|2|5                                    Autres inactifs"
      ]
     },
     "execution_count": 12,
     "metadata": {},
     "output_type": "execute_result"
    }
   ],
   "source": [
    "code_Activity_type"
   ]
  },
  {
   "cell_type": "code",
   "execution_count": 13,
   "id": "western-apache",
   "metadata": {},
   "outputs": [
    {
     "data": {
      "image/png": "[encoded data removed]",
      "text/plain": [
       "<Figure size 720x432 with 1 Axes>"
      ]
     },
     "metadata": {},
     "output_type": "display_data"
    }
   ],
   "source": [
    "plt.figure(figsize=(10,6))\n",
    "sns.boxplot(data=learn, x='Activity_type',y='target', width=0.5, order=code_Activity_type.Code, palette=\"PuBu\")\n",
    "plt.title('Distribution of activity sectors by target')\n",
    "plt.show()"
   ]
  },
  {
   "cell_type": "markdown",
   "id": "foster-country",
   "metadata": {},
   "source": [
    "Based on the correlation between each activity type to the target, we'll regroup this feature into 4 categories:\n",
    "\n",
    "- 1: no salary (type|2|2)\n",
    "- 2: salary or allowance (type|1|2, type|1|1 & type|2|5)\n",
    "- 3: partial salary (type|2|1 & type|2|4)\n",
    "- 4: Under 14 (type|2|3)"
   ]
  },
  {
   "cell_type": "code",
   "execution_count": 14,
   "id": "constant-swaziland",
   "metadata": {},
   "outputs": [],
   "source": [
    "def trans_activity_type(x):\n",
    "    return 'no_salary' if x == 'type|2|2'\\\n",
    "        else 'salary_allowance' if x in ['type|1|2', 'type|1|1', 'type|2|5']\\\n",
    "        else 'partial_salary' if x in ['type|2|1', 'type|2|4']\\\n",
    "        else 'under_14'"
   ]
  },
  {
   "cell_type": "markdown",
   "id": "central-concrete",
   "metadata": {},
   "source": [
    "#### Household type"
   ]
  },
  {
   "cell_type": "code",
   "execution_count": 15,
   "id": "married-spotlight",
   "metadata": {},
   "outputs": [
    {
     "data": {
      "image/png": "[encoded data removed]",
      "text/plain": [
       "<Figure size 864x144 with 1 Axes>"
      ]
     },
     "metadata": {},
     "output_type": "display_data"
    }
   ],
   "source": [
    "household_type_pct = learn.household_type.value_counts(normalize=True)*100\n",
    "\n",
    "household_type_pct.to_frame().T.plot.barh(stacked=True, figsize=(12,2), width=0.2, colormap='YlGnBu')\n",
    "plt.title('Distribution based on household type', fontsize=12)\n",
    "plt.legend(ncol=9, bbox_to_anchor=(0.05, 0.7), loc='lower left', fontsize='small')\n",
    "plt.show()"
   ]
  },
  {
   "cell_type": "markdown",
   "id": "acknowledged-fraction",
   "metadata": {},
   "source": [
    "The distribution of feature is quite balance, we will keep it the same for encoding later"
   ]
  },
  {
   "cell_type": "markdown",
   "id": "german-wilson",
   "metadata": {},
   "source": [
    "#### Job_42, Work_description"
   ]
  },
  {
   "cell_type": "code",
   "execution_count": 16,
   "id": "settled-saturday",
   "metadata": {},
   "outputs": [
    {
     "data": {
      "text/html": [
       "<div>\n",
       "<style scoped>\n",
       "    .dataframe tbody tr th:only-of-type {\n",
       "        vertical-align: middle;\n",
       "    }\n",
       "\n",
       "    .dataframe tbody tr th {\n",
       "        vertical-align: top;\n",
       "    }\n",
       "\n",
       "    .dataframe thead th {\n",
       "        text-align: right;\n",
       "    }\n",
       "</style>\n",
       "<table border=\"1\" class=\"dataframe\">\n",
       "  <thead>\n",
       "    <tr style=\"text-align: right;\">\n",
       "      <th></th>\n",
       "      <th>Code</th>\n",
       "      <th>Libellé</th>\n",
       "    </tr>\n",
       "  </thead>\n",
       "  <tbody>\n",
       "    <tr>\n",
       "      <th>0</th>\n",
       "      <td>csp_1_1</td>\n",
       "      <td>Agriculteurs sur petite exploitation</td>\n",
       "    </tr>\n",
       "    <tr>\n",
       "      <th>1</th>\n",
       "      <td>csp_1_2</td>\n",
       "      <td>Agriculteurs sur moyenne exploitation</td>\n",
       "    </tr>\n",
       "    <tr>\n",
       "      <th>2</th>\n",
       "      <td>csp_1_3</td>\n",
       "      <td>Agriculteurs sur grande exploitation</td>\n",
       "    </tr>\n",
       "    <tr>\n",
       "      <th>3</th>\n",
       "      <td>csp_2_1</td>\n",
       "      <td>Artisans</td>\n",
       "    </tr>\n",
       "    <tr>\n",
       "      <th>4</th>\n",
       "      <td>csp_2_2</td>\n",
       "      <td>Commerçants et assimilés</td>\n",
       "    </tr>\n",
       "    <tr>\n",
       "      <th>5</th>\n",
       "      <td>csp_2_3</td>\n",
       "      <td>Chefs d'entreprise de 10 salariés ou plus</td>\n",
       "    </tr>\n",
       "    <tr>\n",
       "      <th>6</th>\n",
       "      <td>csp_3_1</td>\n",
       "      <td>Professions libérales</td>\n",
       "    </tr>\n",
       "    <tr>\n",
       "      <th>7</th>\n",
       "      <td>csp_3_3</td>\n",
       "      <td>Cadres de la fonction publique</td>\n",
       "    </tr>\n",
       "    <tr>\n",
       "      <th>8</th>\n",
       "      <td>csp_3_4</td>\n",
       "      <td>Professeurs, professions scientifiques</td>\n",
       "    </tr>\n",
       "    <tr>\n",
       "      <th>9</th>\n",
       "      <td>csp_3_5</td>\n",
       "      <td>Professions de l'information, des arts et des ...</td>\n",
       "    </tr>\n",
       "    <tr>\n",
       "      <th>10</th>\n",
       "      <td>csp_3_7</td>\n",
       "      <td>Cadres administratifs et commerciaux d'entreprise</td>\n",
       "    </tr>\n",
       "    <tr>\n",
       "      <th>11</th>\n",
       "      <td>csp_3_8</td>\n",
       "      <td>Ingénieurs et cadres techniques d'entreprise</td>\n",
       "    </tr>\n",
       "    <tr>\n",
       "      <th>12</th>\n",
       "      <td>csp_4_2</td>\n",
       "      <td>Professeurs des écoles, instituteurs et assimilés</td>\n",
       "    </tr>\n",
       "    <tr>\n",
       "      <th>13</th>\n",
       "      <td>csp_4_3</td>\n",
       "      <td>Professions intermédiaires de la santé et  du ...</td>\n",
       "    </tr>\n",
       "    <tr>\n",
       "      <th>14</th>\n",
       "      <td>csp_4_4</td>\n",
       "      <td>Clergé, religieux</td>\n",
       "    </tr>\n",
       "    <tr>\n",
       "      <th>15</th>\n",
       "      <td>csp_4_5</td>\n",
       "      <td>Professions intermédiaires administratives de ...</td>\n",
       "    </tr>\n",
       "    <tr>\n",
       "      <th>16</th>\n",
       "      <td>csp_4_6</td>\n",
       "      <td>Professions intermédiaires administratives et ...</td>\n",
       "    </tr>\n",
       "    <tr>\n",
       "      <th>17</th>\n",
       "      <td>csp_4_7</td>\n",
       "      <td>Techniciens</td>\n",
       "    </tr>\n",
       "    <tr>\n",
       "      <th>18</th>\n",
       "      <td>csp_4_8</td>\n",
       "      <td>Contremaîtres, agents de maîtrise</td>\n",
       "    </tr>\n",
       "    <tr>\n",
       "      <th>19</th>\n",
       "      <td>csp_5_2</td>\n",
       "      <td>Employés civils et agents de service de la fon...</td>\n",
       "    </tr>\n",
       "    <tr>\n",
       "      <th>20</th>\n",
       "      <td>csp_5_3</td>\n",
       "      <td>Policiers et militaires</td>\n",
       "    </tr>\n",
       "    <tr>\n",
       "      <th>21</th>\n",
       "      <td>csp_5_4</td>\n",
       "      <td>Employés administratifs d'entreprise</td>\n",
       "    </tr>\n",
       "    <tr>\n",
       "      <th>22</th>\n",
       "      <td>csp_5_5</td>\n",
       "      <td>Employés de commerce</td>\n",
       "    </tr>\n",
       "    <tr>\n",
       "      <th>23</th>\n",
       "      <td>csp_5_6</td>\n",
       "      <td>Personnels des services directs aux particuliers</td>\n",
       "    </tr>\n",
       "    <tr>\n",
       "      <th>24</th>\n",
       "      <td>csp_6_2</td>\n",
       "      <td>Ouvriers qualifiés de type industriel</td>\n",
       "    </tr>\n",
       "    <tr>\n",
       "      <th>25</th>\n",
       "      <td>csp_6_3</td>\n",
       "      <td>Ouvriers qualifiés de type artisanal</td>\n",
       "    </tr>\n",
       "    <tr>\n",
       "      <th>26</th>\n",
       "      <td>csp_6_4</td>\n",
       "      <td>Chauffeurs</td>\n",
       "    </tr>\n",
       "    <tr>\n",
       "      <th>27</th>\n",
       "      <td>csp_6_5</td>\n",
       "      <td>Ouvriers qualifiés de la manutention, du magas...</td>\n",
       "    </tr>\n",
       "    <tr>\n",
       "      <th>28</th>\n",
       "      <td>csp_6_7</td>\n",
       "      <td>Ouvriers non qualifiés de type industriel</td>\n",
       "    </tr>\n",
       "    <tr>\n",
       "      <th>29</th>\n",
       "      <td>csp_6_8</td>\n",
       "      <td>Ouvriers non qualifiés de type artisanal</td>\n",
       "    </tr>\n",
       "    <tr>\n",
       "      <th>30</th>\n",
       "      <td>csp_6_9</td>\n",
       "      <td>Ouvriers agricoles</td>\n",
       "    </tr>\n",
       "    <tr>\n",
       "      <th>31</th>\n",
       "      <td>csp_7_1</td>\n",
       "      <td>Anciens agriculteurs exploitants</td>\n",
       "    </tr>\n",
       "    <tr>\n",
       "      <th>32</th>\n",
       "      <td>csp_7_2</td>\n",
       "      <td>Anciens artisans, commerçants, chefs d'entreprise</td>\n",
       "    </tr>\n",
       "    <tr>\n",
       "      <th>33</th>\n",
       "      <td>csp_7_4</td>\n",
       "      <td>Anciens cadres</td>\n",
       "    </tr>\n",
       "    <tr>\n",
       "      <th>34</th>\n",
       "      <td>csp_7_5</td>\n",
       "      <td>Anciennes professions intermédiaires</td>\n",
       "    </tr>\n",
       "    <tr>\n",
       "      <th>35</th>\n",
       "      <td>csp_7_7</td>\n",
       "      <td>Anciens employés</td>\n",
       "    </tr>\n",
       "    <tr>\n",
       "      <th>36</th>\n",
       "      <td>csp_7_8</td>\n",
       "      <td>Anciens ouvriers</td>\n",
       "    </tr>\n",
       "    <tr>\n",
       "      <th>37</th>\n",
       "      <td>csp_8_1</td>\n",
       "      <td>Chômeurs n'ayant jamais travaillé</td>\n",
       "    </tr>\n",
       "    <tr>\n",
       "      <th>38</th>\n",
       "      <td>csp_8_3</td>\n",
       "      <td>Militaires du contingent</td>\n",
       "    </tr>\n",
       "    <tr>\n",
       "      <th>39</th>\n",
       "      <td>csp_8_4</td>\n",
       "      <td>Elèves, étudiants</td>\n",
       "    </tr>\n",
       "    <tr>\n",
       "      <th>40</th>\n",
       "      <td>csp_8_5</td>\n",
       "      <td>Personnes diverses sans activité  professionne...</td>\n",
       "    </tr>\n",
       "    <tr>\n",
       "      <th>41</th>\n",
       "      <td>csp_8_6</td>\n",
       "      <td>Personnes diverses sans activité professionnel...</td>\n",
       "    </tr>\n",
       "  </tbody>\n",
       "</table>\n",
       "</div>"
      ],
      "text/plain": [
       "       Code                                            Libellé\n",
       "0   csp_1_1               Agriculteurs sur petite exploitation\n",
       "1   csp_1_2              Agriculteurs sur moyenne exploitation\n",
       "2   csp_1_3               Agriculteurs sur grande exploitation\n",
       "3   csp_2_1                                           Artisans\n",
       "4   csp_2_2                           Commerçants et assimilés\n",
       "5   csp_2_3          Chefs d'entreprise de 10 salariés ou plus\n",
       "6   csp_3_1                              Professions libérales\n",
       "7   csp_3_3                     Cadres de la fonction publique\n",
       "8   csp_3_4             Professeurs, professions scientifiques\n",
       "9   csp_3_5  Professions de l'information, des arts et des ...\n",
       "10  csp_3_7  Cadres administratifs et commerciaux d'entreprise\n",
       "11  csp_3_8       Ingénieurs et cadres techniques d'entreprise\n",
       "12  csp_4_2  Professeurs des écoles, instituteurs et assimilés\n",
       "13  csp_4_3  Professions intermédiaires de la santé et  du ...\n",
       "14  csp_4_4                                  Clergé, religieux\n",
       "15  csp_4_5  Professions intermédiaires administratives de ...\n",
       "16  csp_4_6  Professions intermédiaires administratives et ...\n",
       "17  csp_4_7                                        Techniciens\n",
       "18  csp_4_8                  Contremaîtres, agents de maîtrise\n",
       "19  csp_5_2  Employés civils et agents de service de la fon...\n",
       "20  csp_5_3                            Policiers et militaires\n",
       "21  csp_5_4               Employés administratifs d'entreprise\n",
       "22  csp_5_5                               Employés de commerce\n",
       "23  csp_5_6   Personnels des services directs aux particuliers\n",
       "24  csp_6_2              Ouvriers qualifiés de type industriel\n",
       "25  csp_6_3               Ouvriers qualifiés de type artisanal\n",
       "26  csp_6_4                                         Chauffeurs\n",
       "27  csp_6_5  Ouvriers qualifiés de la manutention, du magas...\n",
       "28  csp_6_7          Ouvriers non qualifiés de type industriel\n",
       "29  csp_6_8           Ouvriers non qualifiés de type artisanal\n",
       "30  csp_6_9                                 Ouvriers agricoles\n",
       "31  csp_7_1                   Anciens agriculteurs exploitants\n",
       "32  csp_7_2  Anciens artisans, commerçants, chefs d'entreprise\n",
       "33  csp_7_4                                     Anciens cadres\n",
       "34  csp_7_5               Anciennes professions intermédiaires\n",
       "35  csp_7_7                                   Anciens employés\n",
       "36  csp_7_8                                   Anciens ouvriers\n",
       "37  csp_8_1                  Chômeurs n'ayant jamais travaillé\n",
       "38  csp_8_3                           Militaires du contingent\n",
       "39  csp_8_4                                  Elèves, étudiants\n",
       "40  csp_8_5  Personnes diverses sans activité  professionne...\n",
       "41  csp_8_6  Personnes diverses sans activité professionnel..."
      ]
     },
     "execution_count": 16,
     "metadata": {},
     "output_type": "execute_result"
    }
   ],
   "source": [
    "code_JOB_42"
   ]
  },
  {
   "cell_type": "code",
   "execution_count": 17,
   "id": "existing-rendering",
   "metadata": {},
   "outputs": [],
   "source": [
    "#learn.JOB_42.value_counts()"
   ]
  },
  {
   "cell_type": "code",
   "execution_count": 18,
   "id": "afraid-boulder",
   "metadata": {},
   "outputs": [
    {
     "data": {
      "image/png": "[encoded data removed]",
      "text/plain": [
       "<Figure size 2160x360 with 1 Axes>"
      ]
     },
     "metadata": {},
     "output_type": "display_data"
    }
   ],
   "source": [
    "plt.figure(figsize=(30,5))\n",
    "sns.boxplot(data=learn, x='JOB_42',y='target', width=0.5, order=code_JOB_42.Code, palette=\"PuBu\")\n",
    "plt.title('Distribution of job by target')\n",
    "plt.show()"
   ]
  },
  {
   "cell_type": "markdown",
   "id": "secret-penny",
   "metadata": {},
   "source": [
    "As the PCS 2003 is a complementary norm which adds modalities to the N2 level of the PCS-ESEv2017, we can drop the work_description column and chose only JOB_42 which describe the job categories more precisely"
   ]
  },
  {
   "cell_type": "markdown",
   "id": "bacterial-ecology",
   "metadata": {},
   "source": [
    "#### Diploma\n",
    "Regroup the diploma into 4 level: middle school & below, high school, bachelor & equivalent, master's and phD."
   ]
  },
  {
   "cell_type": "code",
   "execution_count": 19,
   "id": "banned-surgeon",
   "metadata": {},
   "outputs": [
    {
     "data": {
      "text/html": [
       "<div>\n",
       "<style scoped>\n",
       "    .dataframe tbody tr th:only-of-type {\n",
       "        vertical-align: middle;\n",
       "    }\n",
       "\n",
       "    .dataframe tbody tr th {\n",
       "        vertical-align: top;\n",
       "    }\n",
       "\n",
       "    .dataframe thead th {\n",
       "        text-align: right;\n",
       "    }\n",
       "</style>\n",
       "<table border=\"1\" class=\"dataframe\">\n",
       "  <thead>\n",
       "    <tr style=\"text-align: right;\">\n",
       "      <th></th>\n",
       "      <th>Code</th>\n",
       "      <th>Libellé</th>\n",
       "    </tr>\n",
       "  </thead>\n",
       "  <tbody>\n",
       "    <tr>\n",
       "      <th>0</th>\n",
       "      <td>edu1</td>\n",
       "      <td>Pas de scolarité ou arrêt avant la fin du prim...</td>\n",
       "    </tr>\n",
       "    <tr>\n",
       "      <th>1</th>\n",
       "      <td>edu2</td>\n",
       "      <td>Aucun diplôme et scolarité interrompue à la fi...</td>\n",
       "    </tr>\n",
       "    <tr>\n",
       "      <th>2</th>\n",
       "      <td>edu3</td>\n",
       "      <td>Aucun diplôme et scolarité jusqu’à la fin du c...</td>\n",
       "    </tr>\n",
       "    <tr>\n",
       "      <th>3</th>\n",
       "      <td>edu1-1</td>\n",
       "      <td>CEP (certificat d’études primaires)</td>\n",
       "    </tr>\n",
       "    <tr>\n",
       "      <th>4</th>\n",
       "      <td>edu1-2</td>\n",
       "      <td>BEPC, brevet élémentaire, brevet des collèges,...</td>\n",
       "    </tr>\n",
       "    <tr>\n",
       "      <th>5</th>\n",
       "      <td>edu1-3</td>\n",
       "      <td>CAP, BEP ou diplôme de niveau équivalent</td>\n",
       "    </tr>\n",
       "    <tr>\n",
       "      <th>6</th>\n",
       "      <td>edu1-4</td>\n",
       "      <td>Baccalauréat général ou technologique, brevet ...</td>\n",
       "    </tr>\n",
       "    <tr>\n",
       "      <th>7</th>\n",
       "      <td>edu1-5</td>\n",
       "      <td>Baccalauréat professionnel, brevet professionn...</td>\n",
       "    </tr>\n",
       "    <tr>\n",
       "      <th>8</th>\n",
       "      <td>edu1-6</td>\n",
       "      <td>BTS, DUT, Deug, Deust, diplôme de la santé ou ...</td>\n",
       "    </tr>\n",
       "    <tr>\n",
       "      <th>9</th>\n",
       "      <td>edu1-7</td>\n",
       "      <td>Licence, licence pro, maîtrise, diplôme équiva...</td>\n",
       "    </tr>\n",
       "    <tr>\n",
       "      <th>10</th>\n",
       "      <td>edu1-8</td>\n",
       "      <td>Master, DEA, DESS, diplôme grande école niveau...</td>\n",
       "    </tr>\n",
       "    <tr>\n",
       "      <th>11</th>\n",
       "      <td>edu1-9</td>\n",
       "      <td>Doctorat de recherche (hors santé)</td>\n",
       "    </tr>\n",
       "  </tbody>\n",
       "</table>\n",
       "</div>"
      ],
      "text/plain": [
       "      Code                                            Libellé\n",
       "0     edu1  Pas de scolarité ou arrêt avant la fin du prim...\n",
       "1     edu2  Aucun diplôme et scolarité interrompue à la fi...\n",
       "2     edu3  Aucun diplôme et scolarité jusqu’à la fin du c...\n",
       "3   edu1-1                CEP (certificat d’études primaires)\n",
       "4   edu1-2  BEPC, brevet élémentaire, brevet des collèges,...\n",
       "5   edu1-3           CAP, BEP ou diplôme de niveau équivalent\n",
       "6   edu1-4  Baccalauréat général ou technologique, brevet ...\n",
       "7   edu1-5  Baccalauréat professionnel, brevet professionn...\n",
       "8   edu1-6  BTS, DUT, Deug, Deust, diplôme de la santé ou ...\n",
       "9   edu1-7  Licence, licence pro, maîtrise, diplôme équiva...\n",
       "10  edu1-8  Master, DEA, DESS, diplôme grande école niveau...\n",
       "11  edu1-9                 Doctorat de recherche (hors santé)"
      ]
     },
     "execution_count": 19,
     "metadata": {},
     "output_type": "execute_result"
    }
   ],
   "source": [
    "code_highest_diploma"
   ]
  },
  {
   "cell_type": "code",
   "execution_count": 20,
   "id": "mature-exclusion",
   "metadata": {},
   "outputs": [],
   "source": [
    "up_to_middle = ['edu1', 'edu2', 'edu3', 'edu1-1', 'edu1-2']\n",
    "high_school = ['edu1-3', 'edu1-4', 'edu1-5']\n",
    "bachelor = ['edu1-6', 'edu1-7']\n",
    "masters_phD = ['edu1-8', 'edu1-9']\n",
    "\n",
    "def trans_dip(x):\n",
    "    return 'up_to_middle' if x in up_to_middle \\\n",
    "        else 'high_school' if x in high_school \\\n",
    "        else 'bachelor' if x in bachelor \\\n",
    "        else 'masters_phD'"
   ]
  },
  {
   "cell_type": "markdown",
   "id": "unlike-teddy",
   "metadata": {},
   "source": [
    "#### EMP_CONTRACT"
   ]
  },
  {
   "cell_type": "code",
   "execution_count": 21,
   "id": "ethical-allergy",
   "metadata": {},
   "outputs": [
    {
     "data": {
      "text/plain": [
       "ec16    18272\n",
       "ec15     2128\n",
       "ec21     1711\n",
       "ec22     1109\n",
       "ec11      502\n",
       "ec12      421\n",
       "ec13      207\n",
       "ec14       65\n",
       "ec23       36\n",
       "Name: EMP_CONTRACT, dtype: int64"
      ]
     },
     "execution_count": 21,
     "metadata": {},
     "output_type": "execute_result"
    }
   ],
   "source": [
    "learn.EMP_CONTRACT.value_counts()"
   ]
  },
  {
   "cell_type": "code",
   "execution_count": 22,
   "id": "copyrighted-corps",
   "metadata": {},
   "outputs": [
    {
     "data": {
      "image/png": "[encoded data removed]",
      "text/plain": [
       "<Figure size 576x432 with 1 Axes>"
      ]
     },
     "metadata": {},
     "output_type": "display_data"
    }
   ],
   "source": [
    "plt.figure(figsize=(8,6))\n",
    "sns.boxplot(data=learn, x='EMP_CONTRACT',y='target', width=0.5, order=code_EMP_CONTRACT.Code, palette=\"PuBu\")\n",
    "plt.title('Distribution of job type by target')\n",
    "plt.show()"
   ]
  },
  {
   "cell_type": "markdown",
   "id": "illegal-ozone",
   "metadata": {},
   "source": [
    "#### Company_category\n",
    "\n",
    "The initial test with the model showed that type of employers doesn't have a significant affect to the target, we will group them based on their characteristic to reduce the dimension:\n",
    "- Public service: ct-1, ct-2, ct-3, ct-4 & ct-5\n",
    "- Private company: ct-6, ct-8, ct-9\n",
    "- Individuals Employers: ct-7"
   ]
  },
  {
   "cell_type": "code",
   "execution_count": 23,
   "id": "radio-catalog",
   "metadata": {},
   "outputs": [
    {
     "data": {
      "text/html": [
       "<div>\n",
       "<style scoped>\n",
       "    .dataframe tbody tr th:only-of-type {\n",
       "        vertical-align: middle;\n",
       "    }\n",
       "\n",
       "    .dataframe tbody tr th {\n",
       "        vertical-align: top;\n",
       "    }\n",
       "\n",
       "    .dataframe thead th {\n",
       "        text-align: right;\n",
       "    }\n",
       "</style>\n",
       "<table border=\"1\" class=\"dataframe\">\n",
       "  <thead>\n",
       "    <tr style=\"text-align: right;\">\n",
       "      <th></th>\n",
       "      <th>Code</th>\n",
       "      <th>Libellé</th>\n",
       "    </tr>\n",
       "  </thead>\n",
       "  <tbody>\n",
       "    <tr>\n",
       "      <th>0</th>\n",
       "      <td>ct_1</td>\n",
       "      <td>Fonction Publique d'État</td>\n",
       "    </tr>\n",
       "    <tr>\n",
       "      <th>1</th>\n",
       "      <td>ct_2</td>\n",
       "      <td>Fonction Publique Territoriale</td>\n",
       "    </tr>\n",
       "    <tr>\n",
       "      <th>2</th>\n",
       "      <td>ct_3</td>\n",
       "      <td>Fonction Publique Hospitalière</td>\n",
       "    </tr>\n",
       "    <tr>\n",
       "      <th>3</th>\n",
       "      <td>ct_4</td>\n",
       "      <td>Autres organismes publics administratifs</td>\n",
       "    </tr>\n",
       "    <tr>\n",
       "      <th>4</th>\n",
       "      <td>ct_5</td>\n",
       "      <td>Personnes morales de droit public soumises au ...</td>\n",
       "    </tr>\n",
       "    <tr>\n",
       "      <th>5</th>\n",
       "      <td>ct_6</td>\n",
       "      <td>Entreprises individuelles</td>\n",
       "    </tr>\n",
       "    <tr>\n",
       "      <th>6</th>\n",
       "      <td>ct_7</td>\n",
       "      <td>Particuliers Employeurs</td>\n",
       "    </tr>\n",
       "    <tr>\n",
       "      <th>7</th>\n",
       "      <td>ct_8</td>\n",
       "      <td>Organismes privés spécialisés et groupements d...</td>\n",
       "    </tr>\n",
       "    <tr>\n",
       "      <th>8</th>\n",
       "      <td>ct_9</td>\n",
       "      <td>Autres sociétés privées</td>\n",
       "    </tr>\n",
       "  </tbody>\n",
       "</table>\n",
       "</div>"
      ],
      "text/plain": [
       "   Code                                            Libellé\n",
       "0  ct_1                           Fonction Publique d'État\n",
       "1  ct_2                     Fonction Publique Territoriale\n",
       "2  ct_3                     Fonction Publique Hospitalière\n",
       "3  ct_4           Autres organismes publics administratifs\n",
       "4  ct_5  Personnes morales de droit public soumises au ...\n",
       "5  ct_6                          Entreprises individuelles\n",
       "6  ct_7                            Particuliers Employeurs\n",
       "7  ct_8  Organismes privés spécialisés et groupements d...\n",
       "8  ct_9                            Autres sociétés privées"
      ]
     },
     "execution_count": 23,
     "metadata": {},
     "output_type": "execute_result"
    }
   ],
   "source": [
    "code_Company_category"
   ]
  },
  {
   "cell_type": "code",
   "execution_count": 24,
   "id": "broad-cheese",
   "metadata": {},
   "outputs": [],
   "source": [
    "def trans_comp_cat(x):\n",
    "    return 'public_service' if x in ['ct_1', 'ct_2', 'ct_3', 'ct_4', 'ct_5']\\\n",
    "        else 'private_com' if x in ['ct_6', 'ct_8', 'ct_9']\\\n",
    "        else 'individuals_emp'"
   ]
  },
  {
   "cell_type": "markdown",
   "id": "killing-character",
   "metadata": {},
   "source": [
    "#### contract_type"
   ]
  },
  {
   "cell_type": "code",
   "execution_count": 25,
   "id": "electric-share",
   "metadata": {},
   "outputs": [
    {
     "data": {
      "text/plain": [
       "CDI    17186\n",
       "AUT     1169\n",
       "CDD      763\n",
       "TTP      348\n",
       "APP      312\n",
       "TOA      171\n",
       "Name: contract_type, dtype: int64"
      ]
     },
     "execution_count": 25,
     "metadata": {},
     "output_type": "execute_result"
    }
   ],
   "source": [
    "learn.contract_type.value_counts()"
   ]
  },
  {
   "cell_type": "markdown",
   "id": "associate-society",
   "metadata": {},
   "source": [
    "Consider the domination of CDI contract, we can turn the feature into 2 groups: CDI and non-CDI."
   ]
  },
  {
   "cell_type": "markdown",
   "id": "wireless-character",
   "metadata": {},
   "source": [
    "#### ECO_SECT"
   ]
  },
  {
   "cell_type": "code",
   "execution_count": 26,
   "id": "foster-singles",
   "metadata": {},
   "outputs": [
    {
     "data": {
      "text/html": [
       "<div>\n",
       "<style scoped>\n",
       "    .dataframe tbody tr th:only-of-type {\n",
       "        vertical-align: middle;\n",
       "    }\n",
       "\n",
       "    .dataframe tbody tr th {\n",
       "        vertical-align: top;\n",
       "    }\n",
       "\n",
       "    .dataframe thead th {\n",
       "        text-align: right;\n",
       "    }\n",
       "</style>\n",
       "<table border=\"1\" class=\"dataframe\">\n",
       "  <thead>\n",
       "    <tr style=\"text-align: right;\">\n",
       "      <th></th>\n",
       "      <th>Code</th>\n",
       "      <th>Libellé</th>\n",
       "    </tr>\n",
       "  </thead>\n",
       "  <tbody>\n",
       "    <tr>\n",
       "      <th>0</th>\n",
       "      <td>AZ</td>\n",
       "      <td>Agriculture, sylviculture et pêche</td>\n",
       "    </tr>\n",
       "    <tr>\n",
       "      <th>1</th>\n",
       "      <td>BZ</td>\n",
       "      <td>Industries extractives</td>\n",
       "    </tr>\n",
       "    <tr>\n",
       "      <th>2</th>\n",
       "      <td>CA</td>\n",
       "      <td>Fabrication de denrées alimentaires, de boisso...</td>\n",
       "    </tr>\n",
       "    <tr>\n",
       "      <th>3</th>\n",
       "      <td>CB</td>\n",
       "      <td>Fabrication de textiles, industries de l'habil...</td>\n",
       "    </tr>\n",
       "    <tr>\n",
       "      <th>4</th>\n",
       "      <td>CC</td>\n",
       "      <td>Travail du bois, industries du papier et impri...</td>\n",
       "    </tr>\n",
       "    <tr>\n",
       "      <th>5</th>\n",
       "      <td>CD</td>\n",
       "      <td>Cokéfaction et raffinage</td>\n",
       "    </tr>\n",
       "    <tr>\n",
       "      <th>6</th>\n",
       "      <td>CE</td>\n",
       "      <td>Industrie chimique</td>\n",
       "    </tr>\n",
       "    <tr>\n",
       "      <th>7</th>\n",
       "      <td>CF</td>\n",
       "      <td>Industrie pharmaceutique</td>\n",
       "    </tr>\n",
       "    <tr>\n",
       "      <th>8</th>\n",
       "      <td>CG</td>\n",
       "      <td>Fabrication de produits en caoutchouc et en pl...</td>\n",
       "    </tr>\n",
       "    <tr>\n",
       "      <th>9</th>\n",
       "      <td>CH</td>\n",
       "      <td>Métallurgie et fabrication de produits métalli...</td>\n",
       "    </tr>\n",
       "    <tr>\n",
       "      <th>10</th>\n",
       "      <td>CI</td>\n",
       "      <td>Fabrication de produits informatiques, électro...</td>\n",
       "    </tr>\n",
       "    <tr>\n",
       "      <th>11</th>\n",
       "      <td>CJ</td>\n",
       "      <td>Fabrication d'équipements électriques</td>\n",
       "    </tr>\n",
       "    <tr>\n",
       "      <th>12</th>\n",
       "      <td>CK</td>\n",
       "      <td>Fabrication de machines et équipements n.c.a.</td>\n",
       "    </tr>\n",
       "    <tr>\n",
       "      <th>13</th>\n",
       "      <td>CL</td>\n",
       "      <td>Fabrication de matériels de transport</td>\n",
       "    </tr>\n",
       "    <tr>\n",
       "      <th>14</th>\n",
       "      <td>CM</td>\n",
       "      <td>Autres industries manufacturières ; réparation...</td>\n",
       "    </tr>\n",
       "    <tr>\n",
       "      <th>15</th>\n",
       "      <td>DZ</td>\n",
       "      <td>Production et distribution d'électricité, de g...</td>\n",
       "    </tr>\n",
       "    <tr>\n",
       "      <th>16</th>\n",
       "      <td>EZ</td>\n",
       "      <td>Production et distribution d'eau ; assainissem...</td>\n",
       "    </tr>\n",
       "    <tr>\n",
       "      <th>17</th>\n",
       "      <td>FZ</td>\n",
       "      <td>Construction</td>\n",
       "    </tr>\n",
       "    <tr>\n",
       "      <th>18</th>\n",
       "      <td>GZ</td>\n",
       "      <td>Commerce ; réparation d'automobiles et de moto...</td>\n",
       "    </tr>\n",
       "    <tr>\n",
       "      <th>19</th>\n",
       "      <td>HZ</td>\n",
       "      <td>Transports et entreposage</td>\n",
       "    </tr>\n",
       "    <tr>\n",
       "      <th>20</th>\n",
       "      <td>IZ</td>\n",
       "      <td>Hébergement et restauration</td>\n",
       "    </tr>\n",
       "    <tr>\n",
       "      <th>21</th>\n",
       "      <td>JA</td>\n",
       "      <td>Edition, audiovisuel et diffusion</td>\n",
       "    </tr>\n",
       "    <tr>\n",
       "      <th>22</th>\n",
       "      <td>JB</td>\n",
       "      <td>Télécommunications</td>\n",
       "    </tr>\n",
       "    <tr>\n",
       "      <th>23</th>\n",
       "      <td>JC</td>\n",
       "      <td>Activités informatiques et services d'information</td>\n",
       "    </tr>\n",
       "    <tr>\n",
       "      <th>24</th>\n",
       "      <td>KZ</td>\n",
       "      <td>Activités financières et d'assurance</td>\n",
       "    </tr>\n",
       "    <tr>\n",
       "      <th>25</th>\n",
       "      <td>LZ</td>\n",
       "      <td>Activités immobilières</td>\n",
       "    </tr>\n",
       "    <tr>\n",
       "      <th>26</th>\n",
       "      <td>MA</td>\n",
       "      <td>Activités juridiques, comptables, de gestion, ...</td>\n",
       "    </tr>\n",
       "    <tr>\n",
       "      <th>27</th>\n",
       "      <td>MB</td>\n",
       "      <td>Recherche-développement scientifique</td>\n",
       "    </tr>\n",
       "    <tr>\n",
       "      <th>28</th>\n",
       "      <td>MC</td>\n",
       "      <td>Autres activités spécialisées, scientifiques e...</td>\n",
       "    </tr>\n",
       "    <tr>\n",
       "      <th>29</th>\n",
       "      <td>NZ</td>\n",
       "      <td>Activités de services administratifs et de sou...</td>\n",
       "    </tr>\n",
       "    <tr>\n",
       "      <th>30</th>\n",
       "      <td>OZ</td>\n",
       "      <td>Administration publique</td>\n",
       "    </tr>\n",
       "    <tr>\n",
       "      <th>31</th>\n",
       "      <td>PZ</td>\n",
       "      <td>Enseignement</td>\n",
       "    </tr>\n",
       "    <tr>\n",
       "      <th>32</th>\n",
       "      <td>QA</td>\n",
       "      <td>Activités pour la santé humaine</td>\n",
       "    </tr>\n",
       "    <tr>\n",
       "      <th>33</th>\n",
       "      <td>QB</td>\n",
       "      <td>Hébergement médico-social et social et action ...</td>\n",
       "    </tr>\n",
       "    <tr>\n",
       "      <th>34</th>\n",
       "      <td>RZ</td>\n",
       "      <td>Arts, spectacles et activités récréatives</td>\n",
       "    </tr>\n",
       "    <tr>\n",
       "      <th>35</th>\n",
       "      <td>SZ</td>\n",
       "      <td>Autres activités de services</td>\n",
       "    </tr>\n",
       "    <tr>\n",
       "      <th>36</th>\n",
       "      <td>TZ</td>\n",
       "      <td>Activités des ménages en tant qu'employeurs ; ...</td>\n",
       "    </tr>\n",
       "    <tr>\n",
       "      <th>37</th>\n",
       "      <td>UZ</td>\n",
       "      <td>Activités extra-territoriales</td>\n",
       "    </tr>\n",
       "  </tbody>\n",
       "</table>\n",
       "</div>"
      ],
      "text/plain": [
       "   Code                                            Libellé\n",
       "0    AZ                 Agriculture, sylviculture et pêche\n",
       "1    BZ                             Industries extractives\n",
       "2    CA  Fabrication de denrées alimentaires, de boisso...\n",
       "3    CB  Fabrication de textiles, industries de l'habil...\n",
       "4    CC  Travail du bois, industries du papier et impri...\n",
       "5    CD                           Cokéfaction et raffinage\n",
       "6    CE                                 Industrie chimique\n",
       "7    CF                           Industrie pharmaceutique\n",
       "8    CG  Fabrication de produits en caoutchouc et en pl...\n",
       "9    CH  Métallurgie et fabrication de produits métalli...\n",
       "10   CI  Fabrication de produits informatiques, électro...\n",
       "11   CJ              Fabrication d'équipements électriques\n",
       "12   CK      Fabrication de machines et équipements n.c.a.\n",
       "13   CL              Fabrication de matériels de transport\n",
       "14   CM  Autres industries manufacturières ; réparation...\n",
       "15   DZ  Production et distribution d'électricité, de g...\n",
       "16   EZ  Production et distribution d'eau ; assainissem...\n",
       "17   FZ                                       Construction\n",
       "18   GZ  Commerce ; réparation d'automobiles et de moto...\n",
       "19   HZ                          Transports et entreposage\n",
       "20   IZ                        Hébergement et restauration\n",
       "21   JA                  Edition, audiovisuel et diffusion\n",
       "22   JB                                 Télécommunications\n",
       "23   JC  Activités informatiques et services d'information\n",
       "24   KZ               Activités financières et d'assurance\n",
       "25   LZ                             Activités immobilières\n",
       "26   MA  Activités juridiques, comptables, de gestion, ...\n",
       "27   MB               Recherche-développement scientifique\n",
       "28   MC  Autres activités spécialisées, scientifiques e...\n",
       "29   NZ  Activités de services administratifs et de sou...\n",
       "30   OZ                            Administration publique\n",
       "31   PZ                                       Enseignement\n",
       "32   QA                    Activités pour la santé humaine\n",
       "33   QB  Hébergement médico-social et social et action ...\n",
       "34   RZ          Arts, spectacles et activités récréatives\n",
       "35   SZ                       Autres activités de services\n",
       "36   TZ  Activités des ménages en tant qu'employeurs ; ...\n",
       "37   UZ                      Activités extra-territoriales"
      ]
     },
     "execution_count": 26,
     "metadata": {},
     "output_type": "execute_result"
    }
   ],
   "source": [
    "code_ECO_SECT"
   ]
  },
  {
   "cell_type": "markdown",
   "id": "mature-logic",
   "metadata": {},
   "source": [
    "Base on the information of Insee, we can group each economic sectors into big field\n",
    "\n",
    "- Industry (and agriculture): AZ to EZ\n",
    "- Construction: FZ\n",
    "- Trade: GZ\n",
    "- Accommodation and catering: IZ\n",
    "- Acting: ape 7820Z\n",
    "- Other services excluding interim: HZ, JZ to MC, NZ excluding 7820Z, OZ to UZ"
   ]
  },
  {
   "cell_type": "code",
   "execution_count": 27,
   "id": "earlier-humanitarian",
   "metadata": {},
   "outputs": [],
   "source": [
    "def eco_sec_trans(x):\n",
    "    ind = list(code_ECO_SECT['Code'].iloc[0:17]) \n",
    "    return 'industry_agri' if x in ind\\\n",
    "        else 'construction:' if x == 'FZ'\\\n",
    "        else 'trade' if x == 'GZ'\\\n",
    "        else 'acc_catering' if x == 'IZ'\\\n",
    "        else 'other'"
   ]
  },
  {
   "cell_type": "markdown",
   "id": "documentary-lawsuit",
   "metadata": {},
   "source": [
    "#### JOB_CONDITION"
   ]
  },
  {
   "cell_type": "code",
   "execution_count": 28,
   "id": "southwest-dealing",
   "metadata": {},
   "outputs": [
    {
     "data": {
      "text/html": [
       "<div>\n",
       "<style scoped>\n",
       "    .dataframe tbody tr th:only-of-type {\n",
       "        vertical-align: middle;\n",
       "    }\n",
       "\n",
       "    .dataframe tbody tr th {\n",
       "        vertical-align: top;\n",
       "    }\n",
       "\n",
       "    .dataframe thead th {\n",
       "        text-align: right;\n",
       "    }\n",
       "</style>\n",
       "<table border=\"1\" class=\"dataframe\">\n",
       "  <thead>\n",
       "    <tr style=\"text-align: right;\">\n",
       "      <th></th>\n",
       "      <th>Code</th>\n",
       "      <th>Libellé</th>\n",
       "    </tr>\n",
       "  </thead>\n",
       "  <tbody>\n",
       "    <tr>\n",
       "      <th>0</th>\n",
       "      <td>C</td>\n",
       "      <td>Temps complet</td>\n",
       "    </tr>\n",
       "    <tr>\n",
       "      <th>1</th>\n",
       "      <td>D</td>\n",
       "      <td>Travail à domicile</td>\n",
       "    </tr>\n",
       "    <tr>\n",
       "      <th>2</th>\n",
       "      <td>F</td>\n",
       "      <td>Faible temps partiel</td>\n",
       "    </tr>\n",
       "    <tr>\n",
       "      <th>3</th>\n",
       "      <td>K</td>\n",
       "      <td>Condition d'emploi mixte à dominante temps com...</td>\n",
       "    </tr>\n",
       "    <tr>\n",
       "      <th>4</th>\n",
       "      <td>P</td>\n",
       "      <td>Temps partiel</td>\n",
       "    </tr>\n",
       "    <tr>\n",
       "      <th>5</th>\n",
       "      <td>Y</td>\n",
       "      <td>Condition d'emploi mixte à dominante temps non...</td>\n",
       "    </tr>\n",
       "  </tbody>\n",
       "</table>\n",
       "</div>"
      ],
      "text/plain": [
       "  Code                                            Libellé\n",
       "0    C                                      Temps complet\n",
       "1    D                                 Travail à domicile\n",
       "2    F                               Faible temps partiel\n",
       "3    K  Condition d'emploi mixte à dominante temps com...\n",
       "4    P                                      Temps partiel\n",
       "5    Y  Condition d'emploi mixte à dominante temps non..."
      ]
     },
     "execution_count": 28,
     "metadata": {},
     "output_type": "execute_result"
    }
   ],
   "source": [
    "code_JOB_CONDITION"
   ]
  },
  {
   "cell_type": "code",
   "execution_count": 29,
   "id": "tested-transfer",
   "metadata": {},
   "outputs": [
    {
     "data": {
      "image/png": "[encoded data removed]",
      "text/plain": [
       "<Figure size 576x432 with 1 Axes>"
      ]
     },
     "metadata": {},
     "output_type": "display_data"
    }
   ],
   "source": [
    "plt.figure(figsize=(8,6))\n",
    "sns.boxplot(data=learn, x='JOB_CONDITION',y='target', width=0.5, order=code_JOB_CONDITION.Code, palette=\"PuBu\")\n",
    "plt.title('Distribution of job condition by target')\n",
    "plt.show()"
   ]
  },
  {
   "cell_type": "markdown",
   "id": "sealed-territory",
   "metadata": {},
   "source": [
    "Based on the dominance of full-time and part-time categories, as well as their characteristics, we'll regroup this feature into 3 categories:\n",
    "\n",
    "- 1: Full-time (C)\n",
    "- 2: Part-time & work from home (P & D)\n",
    "- 3: Others (F, K, Y)"
   ]
  },
  {
   "cell_type": "code",
   "execution_count": 30,
   "id": "indian-spanking",
   "metadata": {},
   "outputs": [],
   "source": [
    "def trans_job_condition(x):\n",
    "    return 'fulltime' if x == 'C'\\\n",
    "        else 'parttime_wfh' if x in ['P', 'D']\\\n",
    "        else 'others'"
   ]
  },
  {
   "cell_type": "markdown",
   "id": "bridal-norway",
   "metadata": {},
   "source": [
    "#### JOB_CATEGORY"
   ]
  },
  {
   "cell_type": "code",
   "execution_count": 31,
   "id": "gorgeous-disney",
   "metadata": {},
   "outputs": [
    {
     "data": {
      "text/html": [
       "<div>\n",
       "<style scoped>\n",
       "    .dataframe tbody tr th:only-of-type {\n",
       "        vertical-align: middle;\n",
       "    }\n",
       "\n",
       "    .dataframe tbody tr th {\n",
       "        vertical-align: top;\n",
       "    }\n",
       "\n",
       "    .dataframe thead th {\n",
       "        text-align: right;\n",
       "    }\n",
       "</style>\n",
       "<table border=\"1\" class=\"dataframe\">\n",
       "  <thead>\n",
       "    <tr style=\"text-align: right;\">\n",
       "      <th></th>\n",
       "      <th>Code</th>\n",
       "      <th>Libellé</th>\n",
       "    </tr>\n",
       "  </thead>\n",
       "  <tbody>\n",
       "    <tr>\n",
       "      <th>0</th>\n",
       "      <td>O</td>\n",
       "      <td>Emploi ordinaire</td>\n",
       "    </tr>\n",
       "    <tr>\n",
       "      <th>1</th>\n",
       "      <td>A</td>\n",
       "      <td>Apprenti</td>\n",
       "    </tr>\n",
       "    <tr>\n",
       "      <th>2</th>\n",
       "      <td>X</td>\n",
       "      <td>Autres (emploi aidé, stagiaire, indemnité de c...</td>\n",
       "    </tr>\n",
       "  </tbody>\n",
       "</table>\n",
       "</div>"
      ],
      "text/plain": [
       "  Code                                            Libellé\n",
       "0    O                                   Emploi ordinaire\n",
       "1    A                                           Apprenti\n",
       "2    X  Autres (emploi aidé, stagiaire, indemnité de c..."
      ]
     },
     "execution_count": 31,
     "metadata": {},
     "output_type": "execute_result"
    }
   ],
   "source": [
    "code_JOB_CATEGORY"
   ]
  },
  {
   "cell_type": "code",
   "execution_count": 32,
   "id": "european-python",
   "metadata": {},
   "outputs": [
    {
     "data": {
      "text/plain": [
       "O    96.375758\n",
       "X     2.035190\n",
       "A     1.589052\n",
       "Name: JOB_CATEGORY, dtype: float64"
      ]
     },
     "execution_count": 32,
     "metadata": {},
     "output_type": "execute_result"
    }
   ],
   "source": [
    "learn.JOB_CATEGORY.value_counts(normalize=True)*100"
   ]
  },
  {
   "cell_type": "markdown",
   "id": "anticipated-laugh",
   "metadata": {},
   "source": [
    "Based on the dominence of Emploi ordinaire (O), we will divide this categories into O (valued by 1) and other (valued by 0)"
   ]
  },
  {
   "cell_type": "markdown",
   "id": "incorporate-dietary",
   "metadata": {},
   "source": [
    "#### Employee count (company size)"
   ]
  },
  {
   "cell_type": "code",
   "execution_count": 33,
   "id": "successful-universe",
   "metadata": {},
   "outputs": [
    {
     "data": {
      "text/html": [
       "<div>\n",
       "<style scoped>\n",
       "    .dataframe tbody tr th:only-of-type {\n",
       "        vertical-align: middle;\n",
       "    }\n",
       "\n",
       "    .dataframe tbody tr th {\n",
       "        vertical-align: top;\n",
       "    }\n",
       "\n",
       "    .dataframe thead th {\n",
       "        text-align: right;\n",
       "    }\n",
       "</style>\n",
       "<table border=\"1\" class=\"dataframe\">\n",
       "  <thead>\n",
       "    <tr style=\"text-align: right;\">\n",
       "      <th></th>\n",
       "      <th>Code</th>\n",
       "      <th>Libellé</th>\n",
       "    </tr>\n",
       "  </thead>\n",
       "  <tbody>\n",
       "    <tr>\n",
       "      <th>0</th>\n",
       "      <td>tr_0</td>\n",
       "      <td>0 poste (salariés présents en cours d'année, m...</td>\n",
       "    </tr>\n",
       "    <tr>\n",
       "      <th>1</th>\n",
       "      <td>tr_1</td>\n",
       "      <td>[1;10[ postes</td>\n",
       "    </tr>\n",
       "    <tr>\n",
       "      <th>2</th>\n",
       "      <td>tr_2</td>\n",
       "      <td>[10;20[ postes</td>\n",
       "    </tr>\n",
       "    <tr>\n",
       "      <th>3</th>\n",
       "      <td>tr_3</td>\n",
       "      <td>[20;50[ postes</td>\n",
       "    </tr>\n",
       "    <tr>\n",
       "      <th>4</th>\n",
       "      <td>tr_4</td>\n",
       "      <td>[50;100[ postes</td>\n",
       "    </tr>\n",
       "    <tr>\n",
       "      <th>5</th>\n",
       "      <td>tr_5</td>\n",
       "      <td>[100;250[ postes</td>\n",
       "    </tr>\n",
       "    <tr>\n",
       "      <th>6</th>\n",
       "      <td>tr_6</td>\n",
       "      <td>[250;+[ postes</td>\n",
       "    </tr>\n",
       "  </tbody>\n",
       "</table>\n",
       "</div>"
      ],
      "text/plain": [
       "   Code                                            Libellé\n",
       "0  tr_0  0 poste (salariés présents en cours d'année, m...\n",
       "1  tr_1                                      [1;10[ postes\n",
       "2  tr_2                                     [10;20[ postes\n",
       "3  tr_3                                     [20;50[ postes\n",
       "4  tr_4                                    [50;100[ postes\n",
       "5  tr_5                                   [100;250[ postes\n",
       "6  tr_6                                     [250;+[ postes"
      ]
     },
     "execution_count": 33,
     "metadata": {},
     "output_type": "execute_result"
    }
   ],
   "source": [
    "code_employee_count"
   ]
  },
  {
   "cell_type": "markdown",
   "id": "decreased-symbol",
   "metadata": {},
   "source": [
    "We'll regroup the enterprises into 3 categories:\n",
    "\n",
    "- Micro: 10 employees or less (tr_0 & tr_1)\n",
    "- Small & medium: from 10 to 250 employees (tr_2, tr_3, tr_4 & tr_5)\n",
    "- Large: more than 250 employees (tr_6)"
   ]
  },
  {
   "cell_type": "code",
   "execution_count": 34,
   "id": "complex-karma",
   "metadata": {},
   "outputs": [],
   "source": [
    "micro= ['tr_0', 'tr_1']\n",
    "small_medium = ['tr_2', 'tr_3', 'tr_4', 'tr_5']\n",
    "large = ['tr_6']\n",
    "def trans_employee_count(x):\n",
    "    return 'micro' if x in micro \\\n",
    "         else 'small_medium' if x in small_medium \\\n",
    "         else 'large'"
   ]
  },
  {
   "cell_type": "markdown",
   "id": "stock-gnome",
   "metadata": {},
   "source": [
    "#### Club"
   ]
  },
  {
   "cell_type": "code",
   "execution_count": 35,
   "id": "productive-pocket",
   "metadata": {},
   "outputs": [
    {
     "data": {
      "text/html": [
       "<div>\n",
       "<style scoped>\n",
       "    .dataframe tbody tr th:only-of-type {\n",
       "        vertical-align: middle;\n",
       "    }\n",
       "\n",
       "    .dataframe tbody tr th {\n",
       "        vertical-align: top;\n",
       "    }\n",
       "\n",
       "    .dataframe thead th {\n",
       "        text-align: right;\n",
       "    }\n",
       "</style>\n",
       "<table border=\"1\" class=\"dataframe\">\n",
       "  <thead>\n",
       "    <tr style=\"text-align: right;\">\n",
       "      <th></th>\n",
       "      <th>Code</th>\n",
       "      <th>Categorie</th>\n",
       "      <th>Nom fédération</th>\n",
       "      <th>Nom catégorie</th>\n",
       "    </tr>\n",
       "  </thead>\n",
       "  <tbody>\n",
       "    <tr>\n",
       "      <th>0</th>\n",
       "      <td>CF101</td>\n",
       "      <td>1</td>\n",
       "      <td>Fédération française d'athlétisme</td>\n",
       "      <td>Fédération unisport olympique</td>\n",
       "    </tr>\n",
       "    <tr>\n",
       "      <th>1</th>\n",
       "      <td>CF102</td>\n",
       "      <td>1</td>\n",
       "      <td>Fédération française d'aviron</td>\n",
       "      <td>Fédération unisport olympique</td>\n",
       "    </tr>\n",
       "    <tr>\n",
       "      <th>2</th>\n",
       "      <td>CF103</td>\n",
       "      <td>1</td>\n",
       "      <td>Fédération française de badminton</td>\n",
       "      <td>Fédération unisport olympique</td>\n",
       "    </tr>\n",
       "    <tr>\n",
       "      <th>3</th>\n",
       "      <td>CF105</td>\n",
       "      <td>1</td>\n",
       "      <td>Fédération française de basketball</td>\n",
       "      <td>Fédération unisport olympique</td>\n",
       "    </tr>\n",
       "    <tr>\n",
       "      <th>4</th>\n",
       "      <td>CF106</td>\n",
       "      <td>1</td>\n",
       "      <td>Fédération française de boxe</td>\n",
       "      <td>Fédération unisport olympique</td>\n",
       "    </tr>\n",
       "    <tr>\n",
       "      <th>...</th>\n",
       "      <td>...</td>\n",
       "      <td>...</td>\n",
       "      <td>...</td>\n",
       "      <td>...</td>\n",
       "    </tr>\n",
       "    <tr>\n",
       "      <th>92</th>\n",
       "      <td>CF501</td>\n",
       "      <td>5</td>\n",
       "      <td>Fédération française handisport</td>\n",
       "      <td>Fédération multisports sport et handicap</td>\n",
       "    </tr>\n",
       "    <tr>\n",
       "      <th>93</th>\n",
       "      <td>CF601</td>\n",
       "      <td>6</td>\n",
       "      <td>Fédération française du sport universitaire</td>\n",
       "      <td>Fédération multisports scolaire ou universitaire</td>\n",
       "    </tr>\n",
       "    <tr>\n",
       "      <th>94</th>\n",
       "      <td>CF603</td>\n",
       "      <td>6</td>\n",
       "      <td>Union nationale des clubs universitaires</td>\n",
       "      <td>Fédération multisports scolaire ou universitaire</td>\n",
       "    </tr>\n",
       "    <tr>\n",
       "      <th>95</th>\n",
       "      <td>CF604</td>\n",
       "      <td>6</td>\n",
       "      <td>Union nationale du sport scolaire (UNSS)</td>\n",
       "      <td>Fédération multisports scolaire ou universitaire</td>\n",
       "    </tr>\n",
       "    <tr>\n",
       "      <th>96</th>\n",
       "      <td>CF605</td>\n",
       "      <td>6</td>\n",
       "      <td>Union sportive de l'enseignement du premier degré</td>\n",
       "      <td>Fédération multisports scolaire ou universitaire</td>\n",
       "    </tr>\n",
       "  </tbody>\n",
       "</table>\n",
       "<p>97 rows × 4 columns</p>\n",
       "</div>"
      ],
      "text/plain": [
       "     Code  Categorie                                     Nom fédération  \\\n",
       "0   CF101          1                  Fédération française d'athlétisme   \n",
       "1   CF102          1                      Fédération française d'aviron   \n",
       "2   CF103          1                  Fédération française de badminton   \n",
       "3   CF105          1                 Fédération française de basketball   \n",
       "4   CF106          1                       Fédération française de boxe   \n",
       "..    ...        ...                                                ...   \n",
       "92  CF501          5                    Fédération française handisport   \n",
       "93  CF601          6        Fédération française du sport universitaire   \n",
       "94  CF603          6           Union nationale des clubs universitaires   \n",
       "95  CF604          6           Union nationale du sport scolaire (UNSS)   \n",
       "96  CF605          6  Union sportive de l'enseignement du premier degré   \n",
       "\n",
       "                                       Nom catégorie  \n",
       "0                      Fédération unisport olympique  \n",
       "1                      Fédération unisport olympique  \n",
       "2                      Fédération unisport olympique  \n",
       "3                      Fédération unisport olympique  \n",
       "4                      Fédération unisport olympique  \n",
       "..                                               ...  \n",
       "92          Fédération multisports sport et handicap  \n",
       "93  Fédération multisports scolaire ou universitaire  \n",
       "94  Fédération multisports scolaire ou universitaire  \n",
       "95  Fédération multisports scolaire ou universitaire  \n",
       "96  Fédération multisports scolaire ou universitaire  \n",
       "\n",
       "[97 rows x 4 columns]"
      ]
     },
     "execution_count": 35,
     "metadata": {},
     "output_type": "execute_result"
    }
   ],
   "source": [
    "code_Club"
   ]
  },
  {
   "cell_type": "markdown",
   "id": "signal-wheat",
   "metadata": {},
   "source": [
    "Turn to binary, join club value with 1, without club value with 0"
   ]
  },
  {
   "cell_type": "markdown",
   "id": "falling-atlas",
   "metadata": {},
   "source": [
    "### NUMERICAL FEATURES\n",
    "To help encode the location feature, we add:\n",
    "\n",
    "- City population\n",
    "- town type"
   ]
  },
  {
   "cell_type": "markdown",
   "id": "deluxe-porcelain",
   "metadata": {},
   "source": [
    "#### City population"
   ]
  },
  {
   "cell_type": "code",
   "execution_count": 36,
   "id": "freelance-tunnel",
   "metadata": {},
   "outputs": [
    {
     "name": "stdout",
     "output_type": "stream",
     "text": [
      "(35795, 2)\n"
     ]
    },
    {
     "data": {
      "text/html": [
       "<div>\n",
       "<style scoped>\n",
       "    .dataframe tbody tr th:only-of-type {\n",
       "        vertical-align: middle;\n",
       "    }\n",
       "\n",
       "    .dataframe tbody tr th {\n",
       "        vertical-align: top;\n",
       "    }\n",
       "\n",
       "    .dataframe thead th {\n",
       "        text-align: right;\n",
       "    }\n",
       "</style>\n",
       "<table border=\"1\" class=\"dataframe\">\n",
       "  <thead>\n",
       "    <tr style=\"text-align: right;\">\n",
       "      <th></th>\n",
       "      <th>insee</th>\n",
       "      <th>INHABITANTS</th>\n",
       "    </tr>\n",
       "  </thead>\n",
       "  <tbody>\n",
       "    <tr>\n",
       "      <th>0</th>\n",
       "      <td>01001</td>\n",
       "      <td>785</td>\n",
       "    </tr>\n",
       "    <tr>\n",
       "      <th>1</th>\n",
       "      <td>01002</td>\n",
       "      <td>241</td>\n",
       "    </tr>\n",
       "    <tr>\n",
       "      <th>2</th>\n",
       "      <td>01004</td>\n",
       "      <td>14557</td>\n",
       "    </tr>\n",
       "  </tbody>\n",
       "</table>\n",
       "</div>"
      ],
      "text/plain": [
       "   insee  INHABITANTS\n",
       "0  01001          785\n",
       "1  01002          241\n",
       "2  01004        14557"
      ]
     },
     "execution_count": 36,
     "metadata": {},
     "output_type": "execute_result"
    }
   ],
   "source": [
    "print(city_pop.shape)\n",
    "city_pop.head(3)"
   ]
  },
  {
   "cell_type": "code",
   "execution_count": 37,
   "id": "directed-carbon",
   "metadata": {},
   "outputs": [
    {
     "name": "stdout",
     "output_type": "stream",
     "text": [
      "(35795, 4)\n"
     ]
    },
    {
     "data": {
      "text/html": [
       "<div>\n",
       "<style scoped>\n",
       "    .dataframe tbody tr th:only-of-type {\n",
       "        vertical-align: middle;\n",
       "    }\n",
       "\n",
       "    .dataframe tbody tr th {\n",
       "        vertical-align: top;\n",
       "    }\n",
       "\n",
       "    .dataframe thead th {\n",
       "        text-align: right;\n",
       "    }\n",
       "</style>\n",
       "<table border=\"1\" class=\"dataframe\">\n",
       "  <thead>\n",
       "    <tr style=\"text-align: right;\">\n",
       "      <th></th>\n",
       "      <th>Nom de la commune</th>\n",
       "      <th>insee</th>\n",
       "      <th>town_type</th>\n",
       "      <th>DEP</th>\n",
       "    </tr>\n",
       "  </thead>\n",
       "  <tbody>\n",
       "    <tr>\n",
       "      <th>0</th>\n",
       "      <td>L' Abergement-Clémenciat</td>\n",
       "      <td>01001</td>\n",
       "      <td>Commune simple</td>\n",
       "      <td>01</td>\n",
       "    </tr>\n",
       "    <tr>\n",
       "      <th>1</th>\n",
       "      <td>L' Abergement-de-Varey</td>\n",
       "      <td>01002</td>\n",
       "      <td>Commune simple</td>\n",
       "      <td>01</td>\n",
       "    </tr>\n",
       "    <tr>\n",
       "      <th>2</th>\n",
       "      <td>Ambérieu-en-Bugey</td>\n",
       "      <td>01004</td>\n",
       "      <td>Chef-lieu canton</td>\n",
       "      <td>01</td>\n",
       "    </tr>\n",
       "  </tbody>\n",
       "</table>\n",
       "</div>"
      ],
      "text/plain": [
       "          Nom de la commune  insee         town_type DEP\n",
       "0  L' Abergement-Clémenciat  01001    Commune simple  01\n",
       "1    L' Abergement-de-Varey  01002    Commune simple  01\n",
       "2         Ambérieu-en-Bugey  01004  Chef-lieu canton  01"
      ]
     },
     "execution_count": 37,
     "metadata": {},
     "output_type": "execute_result"
    }
   ],
   "source": [
    "print(city_adm.shape)\n",
    "city_adm.head(3)"
   ]
  },
  {
   "cell_type": "markdown",
   "id": "adult-nicholas",
   "metadata": {},
   "source": [
    "### FEATURE TRANSFORMER"
   ]
  },
  {
   "cell_type": "markdown",
   "id": "correct-draft",
   "metadata": {},
   "source": [
    "Prepare for ML:\n",
    "\n",
    "- Recategorize the categorical features.\n",
    "- Drop unused columns.\n",
    "- Process each learn dataset before merging"
   ]
  },
  {
   "cell_type": "code",
   "execution_count": 38,
   "id": "significant-communication",
   "metadata": {},
   "outputs": [],
   "source": [
    "def preprocessing1(df):\n",
    "    \n",
    "    # add city population\n",
    "    df = df.merge(city_pop, on='insee', how='left')\n",
    "    df.rename(columns={'INHABITANTS': 'city_population'}, inplace=True)\n",
    "    \n",
    "    # recategorize\n",
    "    df['activity_type'] = df['Activity_type'].apply(trans_activity_type)\n",
    "    df['diploma'] = df['highest_diploma'].apply(trans_dip)\n",
    "    \n",
    "     # turn to binary\n",
    "    df['is_student'] = np.where(df['is_student']==True, 1, 0)\n",
    "    df['gender_female'] = np.where(df['sex']=='Female', 1, 0)\n",
    "    \n",
    "    # drop unused columns\n",
    "    cols_to_drop = ['insee', 'highest_diploma', 'sex', 'Activity_type']\n",
    "    df.drop(cols_to_drop, axis=1, inplace=True)\n",
    "    \n",
    "    return df\n",
    "    \n",
    "def preprocessing2(df):\n",
    "     \n",
    "    # rename\n",
    "    df.rename(columns={'WORKING_HOURS': 'working_hours'}, inplace=True)\n",
    "\n",
    "    # recategorize   \n",
    "    df['company_category'] = df['Company_category'].apply(trans_comp_cat)\n",
    "    df['eco_sect'] = df['ECO_SECT'].apply(eco_sec_trans)\n",
    "    df['job_condition'] = df['JOB_CONDITION'].apply(trans_job_condition)\n",
    "    df['employee_count'] = df['employee_count'].apply(trans_employee_count)\n",
    "    \n",
    "    # turn to binary\n",
    "    df['job_category_ordinary'] = np.where(df['JOB_CATEGORY']=='O', 1, 0)\n",
    "    df['contract_type_CDI'] = np.where(df['contract_type']=='CDI', 1, 0)\n",
    "    \n",
    "     # drop unused columns\n",
    "    cols_to_drop = ['Job_dep', 'Work_description', 'Company_category', \n",
    "                    'ECO_SECT', 'JOB_CONDITION', 'JOB_CATEGORY','contract_type' ]\n",
    "    df.drop(cols_to_drop, axis=1, inplace=True)\n",
    "    \n",
    "    \n",
    "    return df"
   ]
  },
  {
   "cell_type": "code",
   "execution_count": 39,
   "id": "rotary-quarter",
   "metadata": {},
   "outputs": [],
   "source": [
    "learn_dataset_new = preprocessing1(learn_dataset)\n",
    "learn_job_new = preprocessing2(learn_job)"
   ]
  },
  {
   "cell_type": "markdown",
   "id": "constant-suspect",
   "metadata": {},
   "source": [
    "#### Encoding\n",
    "As the dependance between feature and target is linear, we will use Label Encoding instead of One hot Encoding to advoid high dimension"
   ]
  },
  {
   "cell_type": "code",
   "execution_count": 40,
   "id": "auburn-force",
   "metadata": {},
   "outputs": [],
   "source": [
    "le = LabelEncoder()\n",
    "dataset_cat = ['household_type', 'JOB_42', 'activity_type', 'diploma' ]\n",
    "job_cat = ['employee_count', 'company_category', 'eco_sect', 'job_condition']"
   ]
  },
  {
   "cell_type": "code",
   "execution_count": 41,
   "id": "sixth-rally",
   "metadata": {},
   "outputs": [],
   "source": [
    "def encoder1(df):\n",
    "    # encoding for learn_dataset_new\n",
    "    for cat in dataset_cat:\n",
    "        encoder_column = le.fit_transform(df[cat])\n",
    "        df[cat] = encoder_column\n",
    "    return df\n",
    "\n",
    "\n",
    "def encoder2(df):\n",
    "    # encoding for learn_job_new\n",
    "    for cat in job_cat:\n",
    "        encoder_column = le.fit_transform(df[cat])\n",
    "        df[cat] = encoder_column\n",
    "    return df\n",
    "    \n",
    "def encoder3(df):\n",
    "    # encoding for learn_EMP_CONTRACT\n",
    "    df['EMP_CONTRACT'] = le.fit_transform(df['EMP_CONTRACT'])\n",
    "    return df"
   ]
  },
  {
   "cell_type": "code",
   "execution_count": 42,
   "id": "double-ribbon",
   "metadata": {},
   "outputs": [],
   "source": [
    "# Final merge and dealing woth missing data\n",
    "def final(x,y,z,t):\n",
    "    a = encoder1(x)\n",
    "    b = encoder2(y)\n",
    "    c = encoder3(z)\n",
    "    sum = [b,c,t]\n",
    "    model = a\n",
    "    for i in sum:\n",
    "        model = model.merge(i,on='unique_id',how='outer')\n",
    "    \n",
    "    # Turn club into binary\n",
    "    model['Club'].loc[~model['Club'].isnull()] = 1  # not nan\n",
    "    model['Club'].loc[model['Club'].isnull()] = 0   # nan\n",
    "    \n",
    "    nan = ['EMP_CONTRACT', 'working_hours', 'Emolument', 'employee_count', 'company_category',\n",
    "      'eco_sect', 'job_condition', 'job_category_ordinary', 'contract_type_CDI']\n",
    "    model.mean()\n",
    "    final_data = model.fillna(model.mean())\n",
    "    \n",
    "    return final_data"
   ]
  },
  {
   "cell_type": "code",
   "execution_count": 43,
   "id": "coral-aerospace",
   "metadata": {},
   "outputs": [
    {
     "name": "stderr",
     "output_type": "stream",
     "text": [
      "c:\\users\\admin\\appdata\\local\\programs\\python\\python39\\lib\\site-packages\\pandas\\core\\indexing.py:1732: SettingWithCopyWarning: \n",
      "A value is trying to be set on a copy of a slice from a DataFrame\n",
      "\n",
      "See the caveats in the documentation: https://pandas.pydata.org/pandas-docs/stable/user_guide/indexing.html#returning-a-view-versus-a-copy\n",
      "  self._setitem_single_block(indexer, value, name)\n"
     ]
    }
   ],
   "source": [
    "final_learn = final(learn_dataset_new,learn_job_new,learn_EMP_CONTRACT,learn_sport)"
   ]
  },
  {
   "cell_type": "markdown",
   "id": "coupled-chester",
   "metadata": {},
   "source": [
    "## Model prediction"
   ]
  },
  {
   "cell_type": "code",
   "execution_count": 44,
   "id": "insured-economy",
   "metadata": {},
   "outputs": [],
   "source": [
    "from sklearn.model_selection import train_test_split\n",
    "from sklearn.impute import SimpleImputer, KNNImputer\n",
    "from sklearn.preprocessing import StandardScaler\n",
    "from sklearn.pipeline import Pipeline\n",
    "from sklearn.pipeline import make_pipeline\n",
    "from sklearn.compose import ColumnTransformer\n",
    "from sklearn.compose import make_column_transformer\n",
    "from sklearn.preprocessing import FunctionTransformer\n",
    "from sklearn.preprocessing import LabelEncoder\n",
    "from sklearn.decomposition import PCA\n",
    "from sklearn.linear_model import LinearRegression\n",
    "from sklearn.linear_model import SGDRegressor\n",
    "from sklearn.neighbors import KNeighborsRegressor\n",
    "from sklearn.ensemble import RandomForestRegressor\n",
    "from sklearn.model_selection import cross_val_score, RepeatedKFold\n",
    "from sklearn.model_selection import GridSearchCV, RandomizedSearchCV\n",
    "import category_encoders as ce\n",
    "import warnings\n",
    "from sklearn.metrics import mean_squared_error, r2_score"
   ]
  },
  {
   "cell_type": "markdown",
   "id": "architectural-relay",
   "metadata": {},
   "source": [
    "Split to train & test set (for validation):"
   ]
  },
  {
   "cell_type": "code",
   "execution_count": 45,
   "id": "recovered-calcium",
   "metadata": {},
   "outputs": [
    {
     "data": {
      "text/html": [
       "<div>\n",
       "<style scoped>\n",
       "    .dataframe tbody tr th:only-of-type {\n",
       "        vertical-align: middle;\n",
       "    }\n",
       "\n",
       "    .dataframe tbody tr th {\n",
       "        vertical-align: top;\n",
       "    }\n",
       "\n",
       "    .dataframe thead th {\n",
       "        text-align: right;\n",
       "    }\n",
       "</style>\n",
       "<table border=\"1\" class=\"dataframe\">\n",
       "  <thead>\n",
       "    <tr style=\"text-align: right;\">\n",
       "      <th></th>\n",
       "      <th>is_student</th>\n",
       "      <th>current_age</th>\n",
       "      <th>household_type</th>\n",
       "      <th>JOB_42</th>\n",
       "      <th>city_population</th>\n",
       "      <th>activity_type</th>\n",
       "      <th>diploma</th>\n",
       "      <th>gender_female</th>\n",
       "      <th>working_hours</th>\n",
       "      <th>Emolument</th>\n",
       "      <th>employee_count</th>\n",
       "      <th>company_category</th>\n",
       "      <th>eco_sect</th>\n",
       "      <th>job_condition</th>\n",
       "      <th>job_category_ordinary</th>\n",
       "      <th>contract_type_CDI</th>\n",
       "      <th>EMP_CONTRACT</th>\n",
       "      <th>Club</th>\n",
       "    </tr>\n",
       "  </thead>\n",
       "  <tbody>\n",
       "    <tr>\n",
       "      <th>count</th>\n",
       "      <td>50000.000000</td>\n",
       "      <td>50000.000000</td>\n",
       "      <td>50000.000000</td>\n",
       "      <td>50000.000000</td>\n",
       "      <td>50000.000000</td>\n",
       "      <td>50000.000000</td>\n",
       "      <td>50000.000000</td>\n",
       "      <td>50000.00000</td>\n",
       "      <td>50000.000000</td>\n",
       "      <td>50000.000000</td>\n",
       "      <td>50000.000000</td>\n",
       "      <td>50000.000000</td>\n",
       "      <td>50000.000000</td>\n",
       "      <td>50000.000000</td>\n",
       "      <td>50000.000000</td>\n",
       "      <td>50000.000000</td>\n",
       "      <td>50000.000000</td>\n",
       "      <td>50000.000000</td>\n",
       "    </tr>\n",
       "    <tr>\n",
       "      <th>mean</th>\n",
       "      <td>0.120840</td>\n",
       "      <td>48.948180</td>\n",
       "      <td>4.730060</td>\n",
       "      <td>25.680720</td>\n",
       "      <td>46283.980060</td>\n",
       "      <td>1.513300</td>\n",
       "      <td>1.510500</td>\n",
       "      <td>0.52062</td>\n",
       "      <td>1598.075661</td>\n",
       "      <td>22567.578074</td>\n",
       "      <td>1.302521</td>\n",
       "      <td>1.061206</td>\n",
       "      <td>2.754624</td>\n",
       "      <td>0.420623</td>\n",
       "      <td>0.963758</td>\n",
       "      <td>0.861497</td>\n",
       "      <td>4.875833</td>\n",
       "      <td>0.150380</td>\n",
       "    </tr>\n",
       "    <tr>\n",
       "      <th>std</th>\n",
       "      <td>0.325945</td>\n",
       "      <td>20.335512</td>\n",
       "      <td>2.511087</td>\n",
       "      <td>10.849119</td>\n",
       "      <td>81215.018795</td>\n",
       "      <td>0.659448</td>\n",
       "      <td>1.115596</td>\n",
       "      <td>0.49958</td>\n",
       "      <td>333.813649</td>\n",
       "      <td>8373.046331</td>\n",
       "      <td>0.514578</td>\n",
       "      <td>0.213650</td>\n",
       "      <td>0.573694</td>\n",
       "      <td>0.507855</td>\n",
       "      <td>0.118052</td>\n",
       "      <td>0.218191</td>\n",
       "      <td>0.769826</td>\n",
       "      <td>0.357447</td>\n",
       "    </tr>\n",
       "    <tr>\n",
       "      <th>min</th>\n",
       "      <td>0.000000</td>\n",
       "      <td>15.000000</td>\n",
       "      <td>0.000000</td>\n",
       "      <td>0.000000</td>\n",
       "      <td>23.000000</td>\n",
       "      <td>0.000000</td>\n",
       "      <td>0.000000</td>\n",
       "      <td>0.00000</td>\n",
       "      <td>1.000000</td>\n",
       "      <td>28.000000</td>\n",
       "      <td>0.000000</td>\n",
       "      <td>0.000000</td>\n",
       "      <td>0.000000</td>\n",
       "      <td>0.000000</td>\n",
       "      <td>0.000000</td>\n",
       "      <td>0.000000</td>\n",
       "      <td>0.000000</td>\n",
       "      <td>0.000000</td>\n",
       "    </tr>\n",
       "    <tr>\n",
       "      <th>25%</th>\n",
       "      <td>0.000000</td>\n",
       "      <td>32.000000</td>\n",
       "      <td>4.000000</td>\n",
       "      <td>17.000000</td>\n",
       "      <td>2669.000000</td>\n",
       "      <td>1.000000</td>\n",
       "      <td>1.000000</td>\n",
       "      <td>0.00000</td>\n",
       "      <td>1598.075661</td>\n",
       "      <td>22567.578074</td>\n",
       "      <td>1.302521</td>\n",
       "      <td>1.000000</td>\n",
       "      <td>2.754624</td>\n",
       "      <td>0.000000</td>\n",
       "      <td>0.963758</td>\n",
       "      <td>0.861497</td>\n",
       "      <td>4.875833</td>\n",
       "      <td>0.000000</td>\n",
       "    </tr>\n",
       "    <tr>\n",
       "      <th>50%</th>\n",
       "      <td>0.000000</td>\n",
       "      <td>48.000000</td>\n",
       "      <td>5.000000</td>\n",
       "      <td>27.000000</td>\n",
       "      <td>11225.000000</td>\n",
       "      <td>2.000000</td>\n",
       "      <td>1.000000</td>\n",
       "      <td>1.00000</td>\n",
       "      <td>1598.075661</td>\n",
       "      <td>22567.578074</td>\n",
       "      <td>1.302521</td>\n",
       "      <td>1.061206</td>\n",
       "      <td>2.754624</td>\n",
       "      <td>0.420623</td>\n",
       "      <td>0.963758</td>\n",
       "      <td>0.861497</td>\n",
       "      <td>4.875833</td>\n",
       "      <td>0.000000</td>\n",
       "    </tr>\n",
       "    <tr>\n",
       "      <th>75%</th>\n",
       "      <td>0.000000</td>\n",
       "      <td>65.000000</td>\n",
       "      <td>7.000000</td>\n",
       "      <td>35.000000</td>\n",
       "      <td>48287.000000</td>\n",
       "      <td>2.000000</td>\n",
       "      <td>3.000000</td>\n",
       "      <td>1.00000</td>\n",
       "      <td>1683.000000</td>\n",
       "      <td>22567.578074</td>\n",
       "      <td>1.302521</td>\n",
       "      <td>1.061206</td>\n",
       "      <td>3.000000</td>\n",
       "      <td>0.420623</td>\n",
       "      <td>1.000000</td>\n",
       "      <td>1.000000</td>\n",
       "      <td>5.000000</td>\n",
       "      <td>0.000000</td>\n",
       "    </tr>\n",
       "    <tr>\n",
       "      <th>max</th>\n",
       "      <td>1.000000</td>\n",
       "      <td>110.000000</td>\n",
       "      <td>8.000000</td>\n",
       "      <td>40.000000</td>\n",
       "      <td>474246.000000</td>\n",
       "      <td>2.000000</td>\n",
       "      <td>3.000000</td>\n",
       "      <td>1.00000</td>\n",
       "      <td>3000.000000</td>\n",
       "      <td>161826.000000</td>\n",
       "      <td>2.000000</td>\n",
       "      <td>2.000000</td>\n",
       "      <td>4.000000</td>\n",
       "      <td>2.000000</td>\n",
       "      <td>1.000000</td>\n",
       "      <td>1.000000</td>\n",
       "      <td>8.000000</td>\n",
       "      <td>1.000000</td>\n",
       "    </tr>\n",
       "  </tbody>\n",
       "</table>\n",
       "</div>"
      ],
      "text/plain": [
       "         is_student   current_age  household_type        JOB_42  \\\n",
       "count  50000.000000  50000.000000    50000.000000  50000.000000   \n",
       "mean       0.120840     48.948180        4.730060     25.680720   \n",
       "std        0.325945     20.335512        2.511087     10.849119   \n",
       "min        0.000000     15.000000        0.000000      0.000000   \n",
       "25%        0.000000     32.000000        4.000000     17.000000   \n",
       "50%        0.000000     48.000000        5.000000     27.000000   \n",
       "75%        0.000000     65.000000        7.000000     35.000000   \n",
       "max        1.000000    110.000000        8.000000     40.000000   \n",
       "\n",
       "       city_population  activity_type       diploma  gender_female  \\\n",
       "count     50000.000000   50000.000000  50000.000000    50000.00000   \n",
       "mean      46283.980060       1.513300      1.510500        0.52062   \n",
       "std       81215.018795       0.659448      1.115596        0.49958   \n",
       "min          23.000000       0.000000      0.000000        0.00000   \n",
       "25%        2669.000000       1.000000      1.000000        0.00000   \n",
       "50%       11225.000000       2.000000      1.000000        1.00000   \n",
       "75%       48287.000000       2.000000      3.000000        1.00000   \n",
       "max      474246.000000       2.000000      3.000000        1.00000   \n",
       "\n",
       "       working_hours      Emolument  employee_count  company_category  \\\n",
       "count   50000.000000   50000.000000    50000.000000      50000.000000   \n",
       "mean     1598.075661   22567.578074        1.302521          1.061206   \n",
       "std       333.813649    8373.046331        0.514578          0.213650   \n",
       "min         1.000000      28.000000        0.000000          0.000000   \n",
       "25%      1598.075661   22567.578074        1.302521          1.000000   \n",
       "50%      1598.075661   22567.578074        1.302521          1.061206   \n",
       "75%      1683.000000   22567.578074        1.302521          1.061206   \n",
       "max      3000.000000  161826.000000        2.000000          2.000000   \n",
       "\n",
       "           eco_sect  job_condition  job_category_ordinary  contract_type_CDI  \\\n",
       "count  50000.000000   50000.000000           50000.000000       50000.000000   \n",
       "mean       2.754624       0.420623               0.963758           0.861497   \n",
       "std        0.573694       0.507855               0.118052           0.218191   \n",
       "min        0.000000       0.000000               0.000000           0.000000   \n",
       "25%        2.754624       0.000000               0.963758           0.861497   \n",
       "50%        2.754624       0.420623               0.963758           0.861497   \n",
       "75%        3.000000       0.420623               1.000000           1.000000   \n",
       "max        4.000000       2.000000               1.000000           1.000000   \n",
       "\n",
       "       EMP_CONTRACT          Club  \n",
       "count  50000.000000  50000.000000  \n",
       "mean       4.875833      0.150380  \n",
       "std        0.769826      0.357447  \n",
       "min        0.000000      0.000000  \n",
       "25%        4.875833      0.000000  \n",
       "50%        4.875833      0.000000  \n",
       "75%        5.000000      0.000000  \n",
       "max        8.000000      1.000000  "
      ]
     },
     "execution_count": 45,
     "metadata": {},
     "output_type": "execute_result"
    }
   ],
   "source": [
    "# Get label\n",
    "y = np.array(final_learn['target'])\n",
    "\n",
    "del final_learn['target']\n",
    "del final_learn['unique_id']\n",
    "final_learn.describe()"
   ]
  },
  {
   "cell_type": "code",
   "execution_count": 46,
   "id": "promising-relation",
   "metadata": {},
   "outputs": [],
   "source": [
    "# split train and test set\n",
    "X = StandardScaler().fit_transform(final_learn)\n",
    "X_train, X_test, y_train, y_test = train_test_split(X, y, test_size=0.2, random_state=42)"
   ]
  },
  {
   "cell_type": "code",
   "execution_count": 47,
   "id": "confidential-machine",
   "metadata": {},
   "outputs": [
    {
     "name": "stdout",
     "output_type": "stream",
     "text": [
      "Learning Base Dimension:  (50000, 18)\n"
     ]
    },
    {
     "data": {
      "image/png": "[encoded data removed]",
      "text/plain": [
       "<Figure size 720x720 with 1 Axes>"
      ]
     },
     "metadata": {},
     "output_type": "display_data"
    }
   ],
   "source": [
    "# PCA \n",
    "n_components = 2 \n",
    "print('Learning Base Dimension: ',X.shape)\n",
    "# using sklearn    \n",
    "pca = PCA(n_components)\n",
    "pca_train = pca.fit_transform(X)\n",
    "pca_test = pca.transform(X_test)\n",
    "\n",
    "n_components = pca.n_components_\n",
    "plt.figure(1,figsize=(10,10))\n",
    "plt.scatter(pca_train[:, 0], pca_train[:, 1],marker='^', label = \"Train\")\n",
    "plt.scatter(pca_test[:, 0], pca_test[:, 1],marker='*',label = \"test\")\n",
    "plt.legend()\n",
    "plt.title(\"Train/test\")\n",
    "plt.xlabel(\"PC1\")\n",
    "plt.ylabel(\"PC2\");\n",
    "plt.show()"
   ]
  },
  {
   "cell_type": "code",
   "execution_count": 48,
   "id": "addressed-riding",
   "metadata": {},
   "outputs": [],
   "source": [
    "# Functions to get model scores\n",
    "\n",
    "def model_score(model_name, model):\n",
    "    pipeline = make_pipeline(StandardScaler(), model)\n",
    "    # fit the full train set\n",
    "    pipeline.fit(X_train, y_train)\n",
    "    \n",
    "    # get score on train set\n",
    "    print('\\n', model_name, ' scores on train set:')\n",
    "    y_train_pred = pipeline.predict(X_train)\n",
    "    print('Mse: ', mean_squared_error(y_train, y_train_pred))\n",
    "    print('R2 score: ', r2_score(y_train,y_train_pred))\n",
    "    \n",
    "    # get score on test set\n",
    "    print('\\n', model_name, ' scores on test set:')\n",
    "    y_pred = pipeline.predict(X_test)\n",
    "    print('Mse: ', mean_squared_error(y_test, y_pred))\n",
    "    print('R2 score: ', r2_score(y_test,y_pred))\n",
    "    \n",
    "def cv_score(model_name, model):\n",
    "    pipeline = make_pipeline(StandardScaler(), model)\n",
    "    cv_model = cross_val_score(pipeline, X_train, y_train, \n",
    "                                   cv=5, scoring='neg_mean_squared_error')\n",
    "    print(model_name, 'cv scores:')\n",
    "    print('CV mse :\\n', -cv_model)\n",
    "    print('CV mse - mean :', (-cv_model).mean())\n",
    "    print('CV mse - std:', cv_model.std())"
   ]
  },
  {
   "cell_type": "code",
   "execution_count": 49,
   "id": "reserved-cleanup",
   "metadata": {},
   "outputs": [],
   "source": [
    "# Functions to get grid scores\n",
    "def grid_score(model_name, model, params_grid_model):\n",
    "    pipeline = make_pipeline(StandardScaler(), model)\n",
    "    \n",
    "    model_grid = GridSearchCV(pipeline,\n",
    "                        param_grid=params_grid_model,\n",
    "                        scoring='neg_mean_squared_error',\n",
    "                        cv=5,\n",
    "                        n_jobs=-1,\n",
    "                        verbose=1,\n",
    "                        return_train_score=True\n",
    "                       )\n",
    "\n",
    "    warnings. filterwarnings(\"ignore\")\n",
    "    model_grid.fit(X_train, y_train)\n",
    "    \n",
    "    print(model_name, ' - Best hyperparameters:\\n{}'.format(model_grid.best_params_))\n",
    "    \n",
    "    # get score on train set\n",
    "    print('\\n', model_name, ' GridSearch best scores on train set:')\n",
    "    model_grid.best_estimator_.fit(X_train, y_train)\n",
    "    y_train_pred = model_grid.predict(X_train)\n",
    "    print('Mse: ', mean_squared_error(y_train, y_train_pred))\n",
    "    print('R2 score: ', r2_score(y_train,y_train_pred))\n",
    "    \n",
    "    # get score on test set\n",
    "    print('\\n', model_name, ' GridSearch best scores on test set:')\n",
    "    y_pred = model_grid.predict(X_test)\n",
    "    print('Mse: ', mean_squared_error(y_test, y_pred))\n",
    "    print('R2 score: ', r2_score(y_test,y_pred))"
   ]
  },
  {
   "cell_type": "markdown",
   "id": "municipal-newton",
   "metadata": {},
   "source": [
    "### Linear Regression"
   ]
  },
  {
   "cell_type": "code",
   "execution_count": 50,
   "id": "grave-prince",
   "metadata": {},
   "outputs": [
    {
     "name": "stdout",
     "output_type": "stream",
     "text": [
      "LR cv scores:\n",
      "CV mse :\n",
      " [101.54198901  99.79539317 100.54330406 102.52154097  99.95990356]\n",
      "CV mse - mean : 100.87242615522254\n",
      "CV mse - std: 1.0265391337292622\n",
      "\n",
      " LR  scores on train set:\n",
      "Mse:  100.7287217668242\n",
      "R2 score:  0.4712305597997283\n",
      "\n",
      " LR  scores on test set:\n",
      "Mse:  100.49315515652242\n",
      "R2 score:  0.4718469688219237\n"
     ]
    }
   ],
   "source": [
    "lr =  LinearRegression()\n",
    "cv_score('LR', lr)\n",
    "model_score('LR', lr)"
   ]
  },
  {
   "cell_type": "markdown",
   "id": "fifth-california",
   "metadata": {},
   "source": [
    "### Support Vector Machine"
   ]
  },
  {
   "cell_type": "code",
   "execution_count": 51,
   "id": "still-stock",
   "metadata": {},
   "outputs": [
    {
     "name": "stdout",
     "output_type": "stream",
     "text": [
      "SVM cv scores:\n",
      "CV mse :\n",
      " [82.11051802 81.34050194 82.36024267 83.99451942 81.16847158]\n",
      "CV mse - mean : 82.19485072391214\n",
      "CV mse - std: 1.0056480416819065\n",
      "\n",
      " SVM  scores on train set:\n",
      "Mse:  79.08924721421509\n",
      "R2 score:  0.5848256957719565\n",
      "\n",
      " SVM  scores on test set:\n",
      "Mse:  81.4991877777608\n",
      "R2 score:  0.5716718915200478\n"
     ]
    }
   ],
   "source": [
    "svr = SVR()\n",
    "cv_score('SVM', svr)\n",
    "model_score('SVM', svr)"
   ]
  },
  {
   "cell_type": "markdown",
   "id": "understood-freedom",
   "metadata": {},
   "source": [
    "### Random Forest Regressor"
   ]
  },
  {
   "cell_type": "code",
   "execution_count": 52,
   "id": "flush-trademark",
   "metadata": {},
   "outputs": [
    {
     "name": "stdout",
     "output_type": "stream",
     "text": [
      "\n",
      " RF  scores on train set:\n",
      "Mse:  7.788479363911573\n",
      "R2 score:  0.9591148403252816\n",
      "\n",
      " RF  scores on test set:\n",
      "Mse:  56.05957181056579\n",
      "R2 score:  0.7053726422244423\n"
     ]
    }
   ],
   "source": [
    "rf = RandomForestRegressor()\n",
    "model_score('RF', rf)"
   ]
  },
  {
   "cell_type": "markdown",
   "id": "ethical-pitch",
   "metadata": {},
   "source": [
    "The model is higly overfitting. We will set main meta-parameters by GridSearchCV to avoid fitting problem as well as to get better result"
   ]
  },
  {
   "cell_type": "code",
   "execution_count": 53,
   "id": "random-cookie",
   "metadata": {},
   "outputs": [
    {
     "name": "stdout",
     "output_type": "stream",
     "text": [
      "Fitting 3 folds for each of 72 candidates, totalling 216 fits\n"
     ]
    },
    {
     "data": {
      "text/plain": [
       "GridSearchCV(cv=3, estimator=RandomForestRegressor(), n_jobs=-1,\n",
       "             param_grid={'max_depth': [5, 10, 15],\n",
       "                         'max_features': ['auto', 'sqrt'],\n",
       "                         'min_samples_split': [8, 10, 12],\n",
       "                         'n_estimators': [100, 200, 300, 1000]},\n",
       "             verbose=2)"
      ]
     },
     "execution_count": 53,
     "metadata": {},
     "output_type": "execute_result"
    }
   ],
   "source": [
    "# Create the parameter grid based on the results of random search \n",
    "param_grid = {\n",
    "    'max_depth': [5, 10, 15],\n",
    "    'max_features': ['auto', 'sqrt'],\n",
    "    'min_samples_split': [8, 10, 12],\n",
    "    'n_estimators': [100, 200, 300, 1000]\n",
    "}\n",
    "# Create a based model\n",
    "rf = RandomForestRegressor()\n",
    "# Instantiate the grid search model\n",
    "grid_search = GridSearchCV(estimator = rf, param_grid = param_grid, \n",
    "                          cv = 3, n_jobs = -1, verbose = 2)\n",
    "grid_search.fit(X_train, y_train)"
   ]
  },
  {
   "cell_type": "code",
   "execution_count": 54,
   "id": "amateur-brave",
   "metadata": {},
   "outputs": [
    {
     "data": {
      "text/plain": [
       "{'max_depth': 15,\n",
       " 'max_features': 'auto',\n",
       " 'min_samples_split': 10,\n",
       " 'n_estimators': 1000}"
      ]
     },
     "execution_count": 54,
     "metadata": {},
     "output_type": "execute_result"
    }
   ],
   "source": [
    "grid_search.best_params_"
   ]
  },
  {
   "cell_type": "code",
   "execution_count": 55,
   "id": "absolute-burner",
   "metadata": {},
   "outputs": [
    {
     "name": "stdout",
     "output_type": "stream",
     "text": [
      "\n",
      " RF  scores on train set:\n",
      "Mse:  38.46850336048589\n",
      "R2 score:  0.7980618771838137\n",
      "\n",
      " RF  scores on test set:\n",
      "Mse:  55.36369425067893\n",
      "R2 score:  0.7090299046719255\n"
     ]
    }
   ],
   "source": [
    "rf_best = RandomForestRegressor(max_depth= 15,max_features= 'auto',min_samples_split= 10, n_estimators= 1000)\n",
    "model_score('RF', rf_best)"
   ]
  },
  {
   "cell_type": "markdown",
   "id": "honey-island",
   "metadata": {},
   "source": [
    "As MSE score is low for training and high for testing, model is overly fitted. The reason behind it is the small size of the dataset. To dealing with over fitting, we will try to run the gridsearchCV second time with lower the range of param feature to reduce the complexity of the learned model "
   ]
  },
  {
   "cell_type": "code",
   "execution_count": 56,
   "id": "lasting-there",
   "metadata": {},
   "outputs": [
    {
     "name": "stdout",
     "output_type": "stream",
     "text": [
      "Fitting 3 folds for each of 27 candidates, totalling 81 fits\n"
     ]
    },
    {
     "data": {
      "text/plain": [
       "GridSearchCV(cv=3, estimator=RandomForestRegressor(), n_jobs=-1,\n",
       "             param_grid={'max_depth': [5, 7, 9], 'max_features': ['auto'],\n",
       "                         'min_samples_split': [3, 5, 9],\n",
       "                         'n_estimators': [100, 150, 200]},\n",
       "             verbose=2)"
      ]
     },
     "execution_count": 56,
     "metadata": {},
     "output_type": "execute_result"
    }
   ],
   "source": [
    "# Create the parameter grid based on the results of random search \n",
    "param_grid2 = {\n",
    "    'max_depth': [5, 7, 9],\n",
    "    'max_features': ['auto'],\n",
    "    'min_samples_split': [3, 5, 9],\n",
    "    'n_estimators': [100, 150, 200]\n",
    "}\n",
    "# Create a based model\n",
    "rf2 = RandomForestRegressor()\n",
    "# Instantiate the grid search model\n",
    "grid2_search = GridSearchCV(estimator = rf, param_grid = param_grid2, \n",
    "                          cv = 3, n_jobs = -1, verbose = 2)\n",
    "grid2_search.fit(X_train, y_train)"
   ]
  },
  {
   "cell_type": "code",
   "execution_count": 57,
   "id": "foreign-reservation",
   "metadata": {},
   "outputs": [
    {
     "data": {
      "text/plain": [
       "{'max_depth': 9,\n",
       " 'max_features': 'auto',\n",
       " 'min_samples_split': 3,\n",
       " 'n_estimators': 200}"
      ]
     },
     "execution_count": 57,
     "metadata": {},
     "output_type": "execute_result"
    }
   ],
   "source": [
    "grid2_search.best_params_"
   ]
  },
  {
   "cell_type": "code",
   "execution_count": 58,
   "id": "killing-playlist",
   "metadata": {},
   "outputs": [
    {
     "name": "stdout",
     "output_type": "stream",
     "text": [
      "\n",
      " RF  scores on train set:\n",
      "Mse:  62.70549338873833\n",
      "R2 score:  0.6708312380514547\n",
      "\n",
      " RF  scores on test set:\n",
      "Mse:  65.9731222920843\n",
      "R2 score:  0.6532708674478839\n"
     ]
    }
   ],
   "source": [
    "rf_best = RandomForestRegressor(max_depth= 9,max_features= 'auto',min_samples_split= 10, n_estimators= 1000)\n",
    "model_score('RF', rf_best)"
   ]
  },
  {
   "cell_type": "markdown",
   "id": "commercial-cigarette",
   "metadata": {},
   "source": [
    "Both train and test set has quite similar MSE score which mean model is fitted well. However we will try other model to test whether the score is better or not"
   ]
  },
  {
   "cell_type": "markdown",
   "id": "possible-darwin",
   "metadata": {},
   "source": [
    "### XGBoost Regression"
   ]
  },
  {
   "cell_type": "code",
   "execution_count": 59,
   "id": "pretty-knight",
   "metadata": {},
   "outputs": [
    {
     "name": "stdout",
     "output_type": "stream",
     "text": [
      "\n",
      " XGB  scores on train set:\n",
      "Mse:  32.23328882791158\n",
      "R2 score:  0.8307932654123876\n",
      "\n",
      " XGB  scores on test set:\n",
      "Mse:  44.46986601423563\n",
      "R2 score:  0.7662836389710362\n"
     ]
    }
   ],
   "source": [
    "# First run to observe the overall result of the model\n",
    "xgb = XGBRegressor()\n",
    "model_score('XGB', xgb)"
   ]
  },
  {
   "cell_type": "markdown",
   "id": "regular-riding",
   "metadata": {},
   "source": [
    "General Approach for Parameter Tuning\n",
    "\n",
    "1. Choose a relatively high learning rate.\n",
    "2. Tune tree-specific parameters ( max_depth, min_child_weight, gamma, subsample, colsample_bytree) for decided learning rate and number of trees.\n",
    "3. Tune regularization parameters (lambda, alpha) for xgboost which can help reduce model complexity and enhance performance.\n",
    "4. Lower the learning rate and decide the optimal parameters"
   ]
  },
  {
   "cell_type": "code",
   "execution_count": 60,
   "id": "motivated-injury",
   "metadata": {},
   "outputs": [
    {
     "name": "stdout",
     "output_type": "stream",
     "text": [
      "Fitting 5 folds for each of 6 candidates, totalling 30 fits\n",
      "XGB1  - Best hyperparameters:\n",
      "{'xgbregressor__learning_rate': 0.2, 'xgbregressor__n_estimators': 150}\n",
      "\n",
      " XGB1  GridSearch best scores on train set:\n",
      "Mse:  48.46945970310357\n",
      "R2 score:  0.745562451061889\n",
      "\n",
      " XGB1  GridSearch best scores on test set:\n",
      "Mse:  50.82265073310628\n",
      "R2 score:  0.7328958674311004\n"
     ]
    }
   ],
   "source": [
    "# Step 1: Fix learning rate and number of estimators for tuning tree-based parameters\n",
    "xgb1 = XGBRegressor(max_depth=3,\n",
    "                   gamma=0,\n",
    "                   colsample_bytree=0.8,\n",
    "                   subsample=0.8,\n",
    "                   seed=3)\n",
    "params_xgb1 = {'xgbregressor__n_estimators': [100, 150],  \n",
    "              'xgbregressor__learning_rate': [0.05, 0.1, 0.2]\n",
    "              }\n",
    "grid_score('XGB1', xgb1, params_xgb1)"
   ]
  },
  {
   "cell_type": "code",
   "execution_count": 61,
   "id": "classical-habitat",
   "metadata": {},
   "outputs": [
    {
     "name": "stdout",
     "output_type": "stream",
     "text": [
      "Fitting 5 folds for each of 9 candidates, totalling 45 fits\n",
      "XGB2  - Best hyperparameters:\n",
      "{'xgbregressor__max_depth': 5, 'xgbregressor__min_child_weight': 2}\n",
      "\n",
      " XGB2  GridSearch best scores on train set:\n",
      "Mse:  37.934690439104905\n",
      "R2 score:  0.8008640963985448\n",
      "\n",
      " XGB2  GridSearch best scores on test set:\n",
      "Mse:  46.02338290837822\n",
      "R2 score:  0.7581189569551338\n"
     ]
    }
   ],
   "source": [
    "# Step 2: Tune max_depth & min_child_weight'\n",
    "xgb2 = XGBRegressor(n_estimators=150,\n",
    "                   max_depth=3,\n",
    "                   gamma=0, \n",
    "                   learning_rate=0.2,\n",
    "                   colsample_bytree=0.8,\n",
    "                   subsample=0.8,\n",
    "                   seed=3\n",
    "                   )\n",
    "params_xgb2 = {'xgbregressor__min_child_weight': [1,2,3],\n",
    "               'xgbregressor__max_depth': [3,4,5],\n",
    "              }\n",
    "grid_score('XGB2', xgb2, params_xgb2)"
   ]
  },
  {
   "cell_type": "code",
   "execution_count": 62,
   "id": "animated-recorder",
   "metadata": {},
   "outputs": [
    {
     "name": "stdout",
     "output_type": "stream",
     "text": [
      "Fitting 5 folds for each of 5 candidates, totalling 25 fits\n",
      "XGB3  - Best hyperparameters:\n",
      "{'xgbregressor__gamma': 0.1}\n",
      "\n",
      " XGB3  GridSearch best scores on train set:\n",
      "Mse:  37.76463122975732\n",
      "R2 score:  0.8017568121140861\n",
      "\n",
      " XGB3  GridSearch best scores on test set:\n",
      "Mse:  45.77440232397259\n",
      "R2 score:  0.759427502299874\n"
     ]
    }
   ],
   "source": [
    "# Step 3: Tune gamma\n",
    "xgb3 = XGBRegressor(n_estimators=150,\n",
    "                   max_depth=5,\n",
    "                   gamma=0,\n",
    "                   learning_rate=0.2,\n",
    "                   colsample_bytree=0.8,\n",
    "                   subsample=0.8,\n",
    "                   min_child_weight=2,\n",
    "                   seed=3\n",
    "                   )\n",
    "params_xgb3 = {'xgbregressor__gamma': [i/10.0 for i in range(0,5)]\n",
    "              }\n",
    "grid_score('XGB3', xgb3, params_xgb3)"
   ]
  },
  {
   "cell_type": "code",
   "execution_count": 63,
   "id": "joint-fiber",
   "metadata": {},
   "outputs": [
    {
     "name": "stdout",
     "output_type": "stream",
     "text": [
      "Fitting 5 folds for each of 9 candidates, totalling 45 fits\n",
      "XGB4  - Best hyperparameters:\n",
      "{'xgbregressor__colsample_bytree': 0.85, 'xgbregressor__subsample': 0.85}\n",
      "\n",
      " XGB4  GridSearch best scores on train set:\n",
      "Mse:  37.09826446313611\n",
      "R2 score:  0.8052548648638274\n",
      "\n",
      " XGB4  GridSearch best scores on test set:\n",
      "Mse:  45.020339992811685\n",
      "R2 score:  0.7633905613289146\n"
     ]
    }
   ],
   "source": [
    "# Step 4: Tune subsample and colsample_bytree\n",
    "xgb4 = XGBRegressor(n_estimators=150,\n",
    "                   max_depth=5,\n",
    "                   gamma=0.1, \n",
    "                   learning_rate=0.2,\n",
    "                   min_child_weight=2,\n",
    "                   seed=3\n",
    "                   )\n",
    "params_xgb4 = {'xgbregressor__subsample': [i/100.0 for i in range(75,90,5)],\n",
    "               'xgbregressor__colsample_bytree': [i/100.0 for i in range(75,90,5)]\n",
    "              }\n",
    "grid_score('XGB4', xgb4, params_xgb4)"
   ]
  },
  {
   "cell_type": "code",
   "execution_count": 64,
   "id": "secure-metadata",
   "metadata": {},
   "outputs": [
    {
     "name": "stdout",
     "output_type": "stream",
     "text": [
      "Fitting 5 folds for each of 5 candidates, totalling 25 fits\n",
      "XGB5  - Best hyperparameters:\n",
      "{'xgbregressor__reg_alpha': 1e-05}\n",
      "\n",
      " XGB5  GridSearch best scores on train set:\n",
      "Mse:  37.09826515702964\n",
      "R2 score:  0.8052548612212744\n",
      "\n",
      " XGB5  GridSearch best scores on test set:\n",
      "Mse:  45.02034032671179\n",
      "R2 score:  0.7633905595740651\n"
     ]
    }
   ],
   "source": [
    "# Step 5: Tuning Regularization Parameters\n",
    "xgb5 = XGBRegressor(n_estimators=150,\n",
    "                   max_depth=5,\n",
    "                   gamma=0.1, \n",
    "                   learning_rate=0.2,\n",
    "                   min_child_weight=2,\n",
    "                   subsample=0.85,\n",
    "                    colsample_bytree=0.85,\n",
    "                   seed=3\n",
    "                   )\n",
    "params_xgb5 = {'xgbregressor__reg_alpha':[1e-5, 1e-2, 0.1, 1, 100]\n",
    "              }\n",
    "grid_score('XGB5', xgb5, params_xgb5)"
   ]
  },
  {
   "cell_type": "code",
   "execution_count": 65,
   "id": "spread-purple",
   "metadata": {},
   "outputs": [
    {
     "name": "stdout",
     "output_type": "stream",
     "text": [
      "Fitting 5 folds for each of 9 candidates, totalling 45 fits\n",
      "XGB6  - Best hyperparameters:\n",
      "{'xgbregressor__learning_rate': 0.1, 'xgbregressor__n_estimators': 200}\n",
      "\n",
      " XGB6  GridSearch best scores on train set:\n",
      "Mse:  41.025339236076306\n",
      "R2 score:  0.7846399191672155\n",
      "\n",
      " XGB6  GridSearch best scores on test set:\n",
      "Mse:  47.17207952803856\n",
      "R2 score:  0.752081853227694\n"
     ]
    }
   ],
   "source": [
    "# Step 6: Reducing Learning Rate\n",
    "xgb6 = XGBRegressor(n_estimators=150,\n",
    "                   max_depth=5,\n",
    "                   gamma=0.3, \n",
    "                   min_child_weight=2,\n",
    "                   subsample=0.85,\n",
    "                    colsample_bytree=0.85,\n",
    "                    reg_alpha=1e-05,\n",
    "                   )\n",
    "params_xgb6 = {'xgbregressor__learning_rate':[0.025, 0.05, 0.1],\n",
    "               'xgbregressor__n_estimators': [150,180,200]\n",
    "              }\n",
    "grid_score('XGB6', xgb6, params_xgb6)"
   ]
  },
  {
   "cell_type": "markdown",
   "id": "certain-margin",
   "metadata": {},
   "source": [
    "Based on the above result, we will take XGBoot Regression as our model for prediction and take the generated parameter as final model"
   ]
  },
  {
   "cell_type": "code",
   "execution_count": 66,
   "id": "tropical-paper",
   "metadata": {},
   "outputs": [
    {
     "name": "stdout",
     "output_type": "stream",
     "text": [
      "XGB_best cv scores:\n",
      "CV mse :\n",
      " [46.43485079 45.42142975 45.45420976 48.05597715 47.45642664]\n",
      "CV mse - mean : 46.56457881805322\n",
      "CV mse - std: 1.0560492547443472\n",
      "\n",
      " XGB_best  scores on train set:\n",
      "Mse:  41.11948858243432\n",
      "R2 score:  0.7841456877673156\n",
      "\n",
      " XGB_best  scores on test set:\n",
      "Mse:  47.32469070174057\n",
      "R2 score:  0.7512797881133405\n"
     ]
    }
   ],
   "source": [
    "xgb_best = XGBRegressor(n_estimators=200,\n",
    "                   max_depth=5,\n",
    "                   gamma=0.3, \n",
    "                   min_child_weight=2,\n",
    "                   subsample=0.85,\n",
    "                    colsample_bytree=0.85,\n",
    "                    reg_alpha=1e-05,\n",
    "                    learning_rate=0.1,\n",
    "                   seed=3\n",
    "                   )\n",
    "cv_score('XGB_best', xgb_best)\n",
    "model_score('XGB_best', xgb_best)"
   ]
  },
  {
   "cell_type": "markdown",
   "id": "enabling-therapist",
   "metadata": {},
   "source": [
    "## Final results"
   ]
  },
  {
   "cell_type": "code",
   "execution_count": 67,
   "id": "induced-progressive",
   "metadata": {},
   "outputs": [],
   "source": [
    "test_dataset_new = preprocessing1(test_dataset)\n",
    "test_job_new = preprocessing2(test_job)"
   ]
  },
  {
   "cell_type": "code",
   "execution_count": 68,
   "id": "christian-karen",
   "metadata": {},
   "outputs": [],
   "source": [
    "final_test = final(test_dataset_new,test_job_new,test_EMP_CONTRACT,test_sport)"
   ]
  },
  {
   "cell_type": "code",
   "execution_count": 69,
   "id": "incident-louisville",
   "metadata": {},
   "outputs": [],
   "source": [
    "predictions = final_test[['unique_id']]\n",
    "del final_test['unique_id']"
   ]
  },
  {
   "cell_type": "code",
   "execution_count": 70,
   "id": "close-waterproof",
   "metadata": {},
   "outputs": [
    {
     "name": "stdout",
     "output_type": "stream",
     "text": [
      "Model scores on full train set:\n",
      "Mse: 41.96795640837439\n",
      "R2 score: 0.7796402251529241\n"
     ]
    }
   ],
   "source": [
    "best = make_pipeline(StandardScaler(), xgb_best)\n",
    "best.fit(X,y)\n",
    "y_pred_best = best.predict(X)\n",
    "print('Model scores on full train set:')\n",
    "print('Mse:', mean_squared_error(y, y_pred_best))\n",
    "print('R2 score:', r2_score(y, y_pred_best))"
   ]
  },
  {
   "cell_type": "code",
   "execution_count": 71,
   "id": "positive-progressive",
   "metadata": {},
   "outputs": [
    {
     "name": "stdout",
     "output_type": "stream",
     "text": [
      "XGB best - cv scores:\n",
      "CV mse :\n",
      " [66.37125656 44.5239323  58.10722201 51.0650725  66.45009452]\n",
      "CV mse - mean : 57.30351557789088\n",
      "CV mse - std: 8.587964808300237\n"
     ]
    }
   ],
   "source": [
    "# cross validation on the full learn set\n",
    "cv_best = cross_val_score(best, X, y, cv=5, scoring='neg_mean_squared_error')\n",
    "                     \n",
    "print('XGB best - cv scores:')\n",
    "print('CV mse :\\n', -cv_best)\n",
    "print('CV mse - mean :', (-cv_best).mean())\n",
    "print('CV mse - std:', cv_best.std())"
   ]
  },
  {
   "cell_type": "code",
   "execution_count": 72,
   "id": "blond-milwaukee",
   "metadata": {},
   "outputs": [
    {
     "data": {
      "image/png": "[encoded data removed]",
      "text/plain": [
       "<Figure size 432x288 with 1 Axes>"
      ]
     },
     "metadata": {},
     "output_type": "display_data"
    }
   ],
   "source": [
    "plt.plot(-cv_best, label = \"CV estimate\")\n",
    "plt.show()\n"
   ]
  },
  {
   "cell_type": "markdown",
   "id": "random-recipient",
   "metadata": {},
   "source": [
    "Based on the cross validation, the expectation range of MSE on the test set will be:"
   ]
  },
  {
   "cell_type": "code",
   "execution_count": 73,
   "id": "still-negative",
   "metadata": {},
   "outputs": [
    {
     "name": "stdout",
     "output_type": "stream",
     "text": [
      "Range of MSE: 65.89148038619112 to 48.71555076959064\n"
     ]
    }
   ],
   "source": [
    "print('Range of MSE:', 57.30351557789088 + 8.587964808300237*1, 'to' , 57.30351557789088 - 8.587964808300237*1) "
   ]
  },
  {
   "cell_type": "code",
   "execution_count": 74,
   "id": "positive-ladder",
   "metadata": {},
   "outputs": [],
   "source": [
    "pred = best.predict(final_test)"
   ]
  },
  {
   "cell_type": "code",
   "execution_count": 75,
   "id": "sudden-strand",
   "metadata": {},
   "outputs": [],
   "source": [
    "predictions['target'] = pred.tolist() "
   ]
  },
  {
   "cell_type": "code",
   "execution_count": 77,
   "id": "coordinate-producer",
   "metadata": {},
   "outputs": [],
   "source": [
    "#predictions.to_csv(folder_path+ 'predictions.csv')"
   ]
  },
  {
   "cell_type": "code",
   "execution_count": null,
   "id": "missing-button",
   "metadata": {},
   "outputs": [],
   "source": []
  }
 ],
 "metadata": {
  "kernelspec": {
   "display_name": "Python 3",
   "language": "python",
   "name": "python3"
  },
  "language_info": {
   "codemirror_mode": {
    "name": "ipython",
    "version": 3
   },
   "file_extension": ".py",
   "mimetype": "text/x-python",
   "name": "python",
   "nbconvert_exporter": "python",
   "pygments_lexer": "ipython3",
   "version": "3.9.2"
  }
 },
 "nbformat": 4,
 "nbformat_minor": 5
}
